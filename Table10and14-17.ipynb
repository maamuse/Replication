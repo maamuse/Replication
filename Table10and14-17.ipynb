{
 "cells": [
  {
   "cell_type": "markdown",
   "metadata": {},
   "source": [
    "### Table 10"
   ]
  },
  {
   "cell_type": "code",
   "execution_count": null,
   "metadata": {},
   "outputs": [],
   "source": [
    "# College\n",
    "period_40 = (40-P_c.starting_age)*4 + 4\n",
    "fer_c_a = mean(sum(fertility_sim_f_c[1:period_40,:], dims=1))\n",
    "fer_c_17_19 = 0\n",
    "fer_c_20_24 = mean(sum(fertility_sim_f_c[1:20,:], dims=1))/fer_c_a*100\n",
    "fer_c_25_29 = mean(sum(fertility_sim_f_c[21:40,:], dims=1))/fer_c_a*100\n",
    "fer_c_30_34 = mean(sum(fertility_sim_f_c[41:60,:], dims=1))/fer_c_a*100\n",
    "fer_c_35_40 = mean(sum(fertility_sim_f_c[61:84,:], dims=1))/fer_c_a*100\n",
    "\n",
    "# Non_college\n",
    "period_40 = (40-P_nonc.starting_age)*4 + 4\n",
    "fer_nonc_a = mean(sum(fertility_sim_f_nonc[1:period_40,:], dims=1))\n",
    "fer_nonc_17_19 = mean(sum(fertility_sim_f_nonc[1:12,:], dims=1))/fer_nonc_a*100\n",
    "fer_nonc_20_24 = mean(sum(fertility_sim_f_nonc[13:32,:], dims=1))/fer_nonc_a*100\n",
    "fer_nonc_25_29 = mean(sum(fertility_sim_f_nonc[33:52,:], dims=1))/fer_nonc_a*100\n",
    "fer_nonc_30_34 = mean(sum(fertility_sim_f_nonc[53:72,:], dims=1))/fer_nonc_a*100\n",
    "fer_nonc_35_40 = mean(sum(fertility_sim_f_nonc[73:96,:], dims=1))/fer_nonc_a*100\n",
    "\n",
    "df_10 = DataFrame(Item = [\"Average fertility\",\"17-19\",\"20-24\",\"25-29\",\"30-34\",\"35-40\"], Non_college = round.([fer_nonc_a,fer_nonc_17_19,fer_nonc_20_24,fer_nonc_25_29,fer_nonc_30_34,fer_nonc_35_40],digits=2), College=round.([fer_c_a,fer_c_17_19,fer_c_20_24,fer_c_25_29,fer_c_30_34,fer_c_35_40],digits=2))"
   ]
  },
  {
   "cell_type": "markdown",
   "metadata": {},
   "source": [
    "### Table 14"
   ]
  },
  {
   "cell_type": "code",
   "execution_count": 1,
   "metadata": {},
   "outputs": [
    {
     "ename": "UndefVarError",
     "evalue": "UndefVarError: P_nonc not defined",
     "output_type": "error",
     "traceback": [
      "UndefVarError: P_nonc not defined",
      "",
      "Stacktrace:",
      " [1] top-level scope at In[1]:1"
     ]
    }
   ],
   "source": [
    "period_40 = (40-P_nonc.starting_age)*4+1\n",
    "year_convert= period_40\n",
    "#non-College\n",
    "e1_nonc = mean(sum(working_hours_sim_m_nonc[1:period_40,:]; dims=1))/year_convert #mean cumulative working hours up to age 40\n",
    "e2_nonc = mean(sum(working_hours_sim_f_nonc[1:period_40,:]; dims=1))/year_convert\n",
    "e3_nonc = e1_nonc/e2_nonc\n",
    "#College\n",
    "period_40 = (40-P_c.starting_age)*4+1\n",
    "e1_c = mean(sum(working_hours_sim_m_c[1:period_40,:]; dims=1))/year_convert\n",
    "e2_c = mean(sum(working_hours_sim_f_c[1:period_40,:]; dims=1))/year_convert\n",
    "e3_c = e1_c/e2_c\n",
    "tab = [e1_nonc e1_c;\n",
    "        e2_nonc e2_c;\n",
    "        e3_nonc e3_c]\n",
    "disp = [\"non-College\" \"College\"; tab]\n",
    "dips = [[\"\";\"Males\";\"Females\";\"Males/Females\"] disp ]"
   ]
  },
  {
   "cell_type": "markdown",
   "metadata": {},
   "source": [
    "### Table 15"
   ]
  },
  {
   "cell_type": "code",
   "execution_count": null,
   "metadata": {},
   "outputs": [],
   "source": [
    "using DataFrames\n",
    "group = [\"c\", \"nonc\"]\n",
    "sexes = [\"m\", \"f\"]\n",
    "for g in group\n",
    "    for s in sexes\n",
    "        Line1 = Meta.parse(\"income_40 = income_sim_$(s)_$(g)[4*(40 - P_$(g).starting_age)+1,:]\")\n",
    "        eval(Line1)\n",
    "        if g == \"c\" \n",
    "            Line2 = Meta.parse(\"income_starting = income_sim_$(s)_$(g)[13,:]\") # from age 23\n",
    "        else \n",
    "            Line2 = Meta.parse(\"income_starting = income_sim_$(s)_$(g)[1,:]\") # from age 17\n",
    "        end\n",
    "        eval(Line2)\n",
    "        Line3 = Meta.parse(\"$(s)_$(g) = income_40./income_starting\")\n",
    "        eval(Line3)\n",
    "        Line4 = Meta.parse(\"$(s)_$(g)_a = mean($(s)_$(g))\")\n",
    "        eval(Line4)\n",
    "        Line5 = Meta.parse(\"$(s)_$(g)_t = mean($(s)_$(g)[$(s)_$(g).>median($(s)_$(g))])\")\n",
    "        eval(Line5)\n",
    "        Line6 = Meta.parse(\"$(s)_$(g)_b = mean($(s)_$(g)[$(s)_$(g).<median($(s)_$(g))])\")\n",
    "        eval(Line6)\n",
    "    end\n",
    "end\n",
    "df_15 = DataFrame(Wage_growth = [\"Average\",\"Top 50%\",\"Bottom 50%\"], m_nonc = round.([m_nonc_a,m_nonc_t,m_nonc_b],digits=2), f_nonc = round.([f_nonc_a,f_nonc_t,f_nonc_b], digits=2), m_c=round.([m_c_a,m_c_t,m_c_b],digits=2), f_c=round.([f_c_a,f_c_t,f_c_b],digits=2))"
   ]
  },
  {
   "cell_type": "markdown",
   "metadata": {},
   "source": [
    "### Table 16"
   ]
  },
  {
   "cell_type": "code",
   "execution_count": null,
   "metadata": {},
   "outputs": [],
   "source": [
    "# before running table 16, you should run table 15\n",
    "# College\n",
    "income_nonchild_c = income_sim_f_c[:, child_sim_f_c[4*(40-P_c.starting_age)+1,:].==0]\n",
    "f_nonchild_c = income_nonchild_c[4*(40-P_c.starting_age)+1, :]./income_nonchild_c[13, :]\n",
    "\n",
    "wage_gap_c = (mean(m_c) - mean(f_c))/mean(m_c)\n",
    "wage_gap_c_h = (mean(m_c) - mean(f_nonchild_c))/mean(m_c)\n",
    "wage_gap_c_child = wage_gap_c - wage_gap_c_h\n",
    "rate_c = round(wage_gap_c_child/wage_gap_c*100, digits=2)\n",
    "\n",
    "# Non_college\n",
    "income_nonchild_nonc = income_sim_f_nonc[:, child_sim_f_nonc[4*(40-P_nonc.starting_age)+1,:].==0]\n",
    "f_nonchild_nonc = income_nonchild_nonc[4*(40-P_nonc.starting_age)+1, :]./income_nonchild_nonc[1, :]\n",
    "\n",
    "wage_gap_nonc = (mean(m_nonc) - mean(f_nonc))/mean(m_nonc)\n",
    "wage_gap_nonc_h = (mean(m_nonc) - mean(f_nonchild_nonc))/mean(m_nonc)\n",
    "wage_gap_nonc_child = wage_gap_nonc - wage_gap_nonc_h\n",
    "rate_nonc = round(wage_gap_nonc_child/wage_gap_nonc*100, digits=2)\n",
    "\n",
    "df_16 = DataFrame(Economy = [\"Benchmark\",\"Only children\",\"Only hours\"], Non_college = round.([wage_gap_nonc,wage_gap_nonc_child,wage_gap_nonc_h],digits=2), Rate_nonc=[rate_nonc,rate_nonc,rate_nonc], College=round.([wage_gap_c,wage_gap_c_child,wage_gap_c_h],digits=2), Rate_c =[rate_c,rate_c,rate_c])"
   ]
  },
  {
   "cell_type": "markdown",
   "metadata": {},
   "source": [
    "### Table 17"
   ]
  },
  {
   "cell_type": "code",
   "execution_count": null,
   "metadata": {},
   "outputs": [],
   "source": [
    "f_nonc_black_a = mean(income_sim_f_nonc_black[4*(40-P_nonc_black.starting_age)+1,:]./income_sim_f_nonc_black[1,:])\n",
    "black_ratio = f_nonc_black_a/f_nonc_a\n",
    "df_17 = DataFrame(Item = [\"Black non-college\", \"All non-college\", \"Ration\"], Model = round.([f_nonc_black_a, f_nonc_a, black_ratio], digits=2))"
   ]
  },
  {
   "cell_type": "markdown",
   "metadata": {},
   "source": [
    "### Table 20"
   ]
  },
  {
   "cell_type": "code",
   "execution_count": null,
   "metadata": {},
   "outputs": [],
   "source": [
    "# weird, so cancel"
   ]
  },
  {
   "cell_type": "markdown",
   "metadata": {},
   "source": [
    "### Table 21"
   ]
  },
  {
   "cell_type": "code",
   "execution_count": null,
   "metadata": {},
   "outputs": [],
   "source": [
    "# weird, so cancel"
   ]
  }
 ],
 "metadata": {
  "kernelspec": {
   "display_name": "Julia 1.1.0",
   "language": "julia",
   "name": "julia-1.1"
  },
  "language_info": {
   "file_extension": ".jl",
   "mimetype": "application/julia",
   "name": "julia",
   "version": "1.1.0"
  }
 },
 "nbformat": 4,
 "nbformat_minor": 2
}
