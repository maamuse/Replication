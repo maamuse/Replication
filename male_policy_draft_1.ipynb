{
 "cells": [
  {
   "cell_type": "code",
   "execution_count": 1,
   "metadata": {
    "collapsed": true
   },
   "outputs": [],
   "source": [
    "using QuantEcon, Interpolations, Plots"
   ]
  },
  {
   "cell_type": "code",
   "execution_count": 2,
   "metadata": {},
   "outputs": [],
   "source": [
    "struct Parameters\n",
    "    α_1::Float64\n",
    "    α_2::Float64\n",
    "    γ_h::Float64\n",
    "    intercept::Float64\n",
    "    age1::Float64\n",
    "    age2::Float64\n",
    "    age3::Float64\n",
    "    child::Float64\n",
    "    interact::Float64\n",
    "    ρ::Float64\n",
    "    σ::Float64\n",
    "    gp_ν_s::Int64\n",
    "    grid_ν_s::Vector{Float64}\n",
    "    markov::Matrix{Float64}\n",
    "    aux_ages::Array{Int64}\n",
    "    aux_ν::Array{Float64}\n",
    "    #int_ν_j = interpolate(knots, aux_ν, Gridded(Linear()))\n",
    "    #min_h::Float64\n",
    "    #max_h::Float64\n",
    "    gp_h::Int64\n",
    "    grid_h::Vector{Float64}\n",
    "    J::Int64\n",
    "    β::Float64\n",
    "\n",
    "    function Parameters(α_1 = 0.351;\n",
    "                        α_2 = 0.379,\n",
    "                        γ_h = 1.0,\n",
    "                        intercept = 0.196,\n",
    "                        age1 = 3.32,\n",
    "                        age2 = -0.086,\n",
    "                        age3 = 0.0007,\n",
    "                        child = -6.81,\n",
    "                        interact = 0.133,\n",
    "                        ρ = 0.76,\n",
    "                        σ = 0.79,\n",
    "                        ν_s = 1,\n",
    "                        gp_ν_s = 7,\n",
    "                        aux_ages = [17, 20, 25, 30, 40, 50, 55, 60, 65],\n",
    "                        aux_ν = [8.0, 1.12, 0.42, 0.29, 0.25, 0.24, 0.25, 0.34, 1.6],\n",
    "                        min_h = 0.0001,\n",
    "                        max_h = 200,\n",
    "                        gp_h = 101,\n",
    "                        J = 4*(65-20),\n",
    "                        β = 0.99)\n",
    "        grid_h = collect(range(min_h, stop = max_h, length=gp_h))\n",
    "        m = QuantEcon.tauchen(gp_ν_s,ρ,σ,0,1)\n",
    "        markov = m.p\n",
    "        grid_ν_s = exp.(collect(m.state_values))\n",
    "        new(α_1, α_2, γ_h, intercept, age1, age2, age3, child, interact, ρ, σ, gp_ν_s, grid_ν_s, markov, aux_ages, aux_ν,  gp_h, grid_h, J, β)\n",
    "    end\n",
    "end"
   ]
  },
  {
   "cell_type": "code",
   "execution_count": 3,
   "metadata": {},
   "outputs": [
    {
     "data": {
      "text/plain": [
       "V (generic function with 1 method)"
      ]
     },
     "execution_count": 3,
     "metadata": {},
     "output_type": "execute_result"
    }
   ],
   "source": [
    "function c(j,h,P::Parameters)\n",
    "    return (P.α_1+j^(P.α_2))*h^(P.γ_h)\n",
    "end\n",
    "function HCA(c,V_hat,V_hat_delta)\n",
    "    e = max(1-c/(V_hat_delta-V_hat),0) #closed form solution of optimal effort\n",
    "    if e>1\n",
    "        error(\"outside of definition\")\n",
    "    end\n",
    "    return (c*log(1-e)+e*V_hat+(1-e)*V_hat_delta, e)\n",
    "end\n",
    "\n",
    "function l(j,n,P::Parameters)\n",
    "    P.intercept+P.age1*j+P.age2*j^2+P.age3*j^3+P.child*n+P.interact*n*j\n",
    "end\n",
    "\n",
    "function W(j,h,n,ν,VV_hat,VV_hat_delta,ll,P::Parameters)\n",
    "    cc = c(j,h,P)\n",
    "    (opt_HCA,e) = HCA(cc,VV_hat,VV_hat_delta)\n",
    "    uu = h*ν\n",
    "    aux_val = h*ll + (1-ll)*uu + P.γ_h*log(1+n) + opt_HCA\n",
    "    return (aux_val, e)\n",
    "end\n",
    "\n",
    "function H(j,h,n,ν,γ_n,VV_hat)\n",
    "    uu = h*ν\n",
    "    return uu + γ_n*log(1+n)+VV_hat\n",
    "end\n",
    "\n",
    "function V(j,h,n,P::Parameters)\n",
    "    max(H(j,h,n,P::Parameters),V(j,h,n,P::Parameters))\n",
    "end"
   ]
  },
  {
   "cell_type": "code",
   "execution_count": 4,
   "metadata": {},
   "outputs": [
    {
     "data": {
      "text/plain": [
       "male_policy (generic function with 1 method)"
      ]
     },
     "execution_count": 4,
     "metadata": {},
     "output_type": "execute_result"
    }
   ],
   "source": [
    "function male_policy(P::Parameters)\n",
    "    W_value = Array{Float64}(undef, P.gp_h, P.J, P.gp_ν_s)\n",
    "    H_value = Array{Float64}(undef, P.gp_h, P.J, P.gp_ν_s)\n",
    "    V_value = Array{Float64}(undef, P.gp_h, P.J, P.gp_ν_s)\n",
    "    labor_policy = Array{Float64}(undef, P.gp_h, P.J, P.gp_ν_s)\n",
    "    effort_policy = Array{Float64}(undef, P.gp_h, P.J, P.gp_ν_s)\n",
    "    knots = (P.aux_ages,)\n",
    "    int_ν_j = interpolate(knots, P.aux_ν, Gridded(Linear()))\n",
    "\n",
    "    #Last period\n",
    "    ll = l(P.J,0,P)\n",
    "    for (ind_h,h) in enumerate(P.grid_h)\n",
    "        age = 20+P.J/4\n",
    "        for (ind_ν, ν_s) in enumerate(P.grid_ν_s)\n",
    "            ν = int_ν_j[age]*ν_s\n",
    "            (W_value[ind_h,P.J,ind_ν], effort_policy[ind_h, P.J,ind_ν]) = W(P.J,h,0,ν,10^(-8),10^(-6),ll,P)\n",
    "            H_value[ind_h,P.J,ind_ν]                                  = H(P.J,h,0,ν,P.γ_h,10^(-8))\n",
    "            V_value[ind_h,P.J,ind_ν]                                  = max.(W_value[ind_h,P.J,ind_ν],H_value[ind_h,P.J,ind_ν])\n",
    "            labor_policy[ind_h,P.J,ind_ν]                             = 1*(W_value[ind_h,P.J,ind_ν]>H_value[ind_h,P.J,ind_ν])\n",
    "        end\n",
    "    end\n",
    "    #Backwards induction\n",
    "    for j in P.J-1:-1:1\n",
    "        #j=J-1\n",
    "        age = 20+j/4\n",
    "        ll = l(j,0,P)\n",
    "        #println(age)\n",
    "        itp_h = interpolate((P.grid_h,P.grid_ν_s),V_value[:,j+1,:],Gridded(Linear()))\n",
    "        etp_h = extrapolate(itp_h, Line())\n",
    "        for (ind_h,h) in enumerate(P.grid_h)\n",
    "            h_delta = h*1.03\n",
    "            for (ind_ν, ν_s) in enumerate(P.grid_ν_s)\n",
    "                contval = 0\n",
    "                contval_delta = 0\n",
    "                for (ind_ν_2, ν_s_2) in enumerate(P.grid_ν_s)\n",
    "                    contval       = contval      + P.markov[ind_ν,ind_ν_2]*etp_h[h,ν_s_2]\n",
    "                    contval_delta = contval_delta+ P.markov[ind_ν,ind_ν_2]*etp_h[h_delta,ν_s_2]\n",
    "                end\n",
    "                ν = int_ν_j[age]*ν_s\n",
    "                (W_value[ind_h,j,ind_ν], effort_policy[ind_h, j,ind_ν]) = W(j, h, 0, ν, contval, contval_delta, ll, P)\n",
    "                H_value[ind_h,j,ind_ν] = H(j,h,0,ν,P.γ_h, contval)\n",
    "                V_value[ind_h,j,ind_ν] = max.(W_value[ind_h,j,ind_ν],H_value[ind_h,j,ind_ν])\n",
    "                labor_policy[ind_h,j,ind_ν] = 1*(W_value[ind_h,j,ind_ν]>H_value[ind_h,j,ind_ν])\n",
    "            end\n",
    "        end\n",
    "    end\n",
    "    return (W_value, H_value, V_value, labor_policy, effort_policy)\n",
    "end"
   ]
  },
  {
   "cell_type": "code",
   "execution_count": null,
   "metadata": {},
   "outputs": [],
   "source": [
    "P = Parameters()"
   ]
  },
  {
   "cell_type": "code",
   "execution_count": null,
   "metadata": {},
   "outputs": [],
   "source": [
    "(W_value, H_value, V_value, labor_policy, effort_policy) = male_policy(P)"
   ]
  },
  {
   "cell_type": "code",
   "execution_count": null,
   "metadata": {
    "collapsed": true
   },
   "outputs": [],
   "source": []
  }
 ],
 "metadata": {
  "kernelspec": {
   "display_name": "Julia 1.1.0",
   "language": "julia",
   "name": "julia-1.1"
  },
  "language_info": {
   "file_extension": ".jl",
   "mimetype": "application/julia",
   "name": "julia",
   "version": "1.1.0"
  }
 },
 "nbformat": 4,
 "nbformat_minor": 2
}
