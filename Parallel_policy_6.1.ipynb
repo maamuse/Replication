{
 "cells": [
  {
   "cell_type": "markdown",
   "metadata": {},
   "source": [
    "# Replication Project: A quantitative theory of the gender gap in wages (Erosa, Fuster & Restuccia 2016)\n",
    "Solving the dynamic model of the paper is a high dimensional problem that requires a lot of computational power. However, lot of computations can be made in parallel instead of sequentially. Consequently, we can shorten the running time significantly by relying on parallel computing packages. As recommended by Fernández-Villaverde & Zarruk (2018) we use the packages \"Distributed\" and \"SharedArrays\".\n",
    "In a first step we load the packages and define the number of workers used in parallel computing. Note that we load the \"Interpolations\" package accompanied by the *@everywhere* command to make it accessible to all processing units used in the parallel computation.\n",
    "\n",
    "For the rest of the code *@everywhere* is used to define objects that are unalterable and all workers of parallel computation need to access. Alterable variables and matrices are created via the *SharedArray* command."
   ]
  },
  {
   "cell_type": "code",
   "execution_count": 1,
   "metadata": {},
   "outputs": [],
   "source": [
    "using Plots, Distributed, SharedArrays, Distributions, QuantEcon, Interpolations, JLD#, Interpolations\n",
    "addprocs(4) #Number of workers used in parallel computing\n",
    "@everywhere using Interpolations, Distributions"
   ]
  },
  {
   "cell_type": "markdown",
   "metadata": {},
   "source": [
    "## Input Parameters"
   ]
  },
  {
   "cell_type": "markdown",
   "metadata": {},
   "source": [
    "To increase speed additionally, we exploit properties of the Julia language. We do so by running computations within functions and using unalterable variables as parameter inputs for the model. For the latter we define a new type structure that summarizes all input parameters. We also include a function that helps us to create such a parameter structure with our desired values. The default input values are for the case of non-college females."
   ]
  },
  {
   "cell_type": "code",
   "execution_count": 2,
   "metadata": {},
   "outputs": [],
   "source": [
    "@everywhere struct Parameters\n",
    "    α_1::Float64\n",
    "    α_2::Float64\n",
    "    γ_h::Float64\n",
    "    intercept::Float64\n",
    "    age1::Float64\n",
    "    age2::Float64\n",
    "    age3::Float64\n",
    "    child::Float64\n",
    "    interact::Float64\n",
    "    gp_ν_s::Int64\n",
    "    grid_ν_s::Vector{Float64}\n",
    "    gp_ν_c::Int64\n",
    "    grid_ν_c::Vector{Float64}\n",
    "    #prob_grid_ν_c::Vector{Float64}\n",
    "    markov::Matrix{Float64}\n",
    "    aux_ages::Array{Int64}\n",
    "    aux_ν::Array{Float64}\n",
    "    gp_h::Int64\n",
    "    grid_h::Vector{Float64}\n",
    "    gp_n::Int64\n",
    "    grid_n::Vector{Float64}\n",
    "    starting_age::Int64\n",
    "    J::Int64\n",
    "    β::Float64\n",
    "    θ::Array{Float64,2}\n",
    "    Δ::Float64\n",
    "    μ_h::Float64\n",
    "    σ_h::Float64\n",
    "    μ_ν_c::Float64\n",
    "    hours_factor::Float64\n",
    "    ρ::Float64\n",
    "    σ::Float64\n",
    "    γ_n::Float64\n",
    "\n",
    "    function Parameters(α_1 = 0.351;\n",
    "                        α_2 = 0.379,\n",
    "                        γ_h = 0.728,\n",
    "                        intercept = 0.196,\n",
    "                        age1 = 3.32,\n",
    "                        age2 = -0.086,\n",
    "                        age3 = 0.0007,\n",
    "                        child = -6.81,\n",
    "                        interact = 0.133,\n",
    "                        markov,\n",
    "                        grid_ν_s,\n",
    "                        gp_ν_s = 7,\n",
    "                        μ_ν_c = 0.7,\n",
    "                        gp_ν_c = 7,\n",
    "                        aux_ages = [17, 20, 25, 30, 40, 50, 55, 60, 65],\n",
    "                        aux_ν = [8.0, 1.12, 0.42, 0.29, 0.25, 0.24, 0.25, 0.34, 1.6],\n",
    "                        min_h = 0.0001,\n",
    "                        max_h = 200,\n",
    "                        gp_h = 101,\n",
    "                        gp_n = 6,\n",
    "                        starting_age = 17,\n",
    "                        β = 0.99,\n",
    "                        Δ = 3.0,\n",
    "                        μ_h = 2,\n",
    "                        σ_h = 0.233,\n",
    "                        ρ = 0.76,\n",
    "                        σ = 0.79,\n",
    "                        γ_n = 1.0,\n",
    "                        black = false)\n",
    "        grid_h = collect(range(min_h, stop = max_h, length=gp_h))\n",
    "        grid_n = collect(range(0, stop = gp_n-1, length = gp_n))\n",
    "        J = 4*(65-starting_age)\n",
    "        percentile_ν_c = 0.9 # set percentile\n",
    "        max_ν_c = -log(1-percentile_ν_c)*μ_ν_c\n",
    "        grid_ν_c = collect(range(0, stop = max_ν_c, length=gp_ν_c))\n",
    "        #prob_grid_ν_c = pdf.(Exponential(μ_ν_c),grid_ν_c)\n",
    "        #prob_grid_ν_c = prob_grid_ν_c./sum(prob_grid_ν_c)\n",
    "        if starting_age==17 ##Non-college\n",
    "            if black==false\n",
    "                #baseline case\n",
    "                aux1=[fill(0.0269,5*4); fill(0.0265,5*4); fill(0.0265,5*4); fill(0.0090,8*4); fill(0.0,25*4)]\n",
    "                aux2=[1.0 1.44 0.76 fill(0.76,gp_n-3)']\n",
    "                θ = aux1*aux2\n",
    "                hours_factor = 44.2/40.5 #from table 1\n",
    "            else\n",
    "                #race experiment\n",
    "                aux1=[fill(0.0415,5*4); fill(0.0260,5*4); fill(0.0237,5*4); fill(0.0044,8*4); fill(0.0,25*4)]\n",
    "                aux2=[1.0 1.62 1.167 fill(1.06,gp_n-3)']\n",
    "                θ = aux1*aux2\n",
    "                hours_factor = 44.2/40.5 #from table 1\n",
    "            end\n",
    "        elseif starting_age==20 ## College\n",
    "            aux1=[fill(0.0082,5*4); fill(0.0210,5*4); fill(0.0259,5*4); fill(0.0086,5*4); fill(0.0,25*4)]\n",
    "            aux2=[1.0 2.66 0.76 fill(1.27,gp_n-3)']\n",
    "            θ = aux1*aux2\n",
    "            hours_factor = 46.2/42.7 #from table 1\n",
    "        end\n",
    "        new(α_1, α_2, γ_h, intercept, age1, age2, age3, child, interact, gp_ν_s, grid_ν_s, gp_ν_c, grid_ν_c, markov, aux_ages, aux_ν, gp_h, grid_h, gp_n, grid_n, starting_age, J, β, θ, Δ, μ_h, σ_h, μ_ν_c, hours_factor, ρ, σ)\n",
    "    end\n",
    "end"
   ]
  },
  {
   "cell_type": "markdown",
   "metadata": {},
   "source": [
    "Now we allocate the the parameter collections for the college and non-college groups. We compute the discretized $\\nu_s$ grid together with its markov matrix via the tauchen method, before feeding this into the function that creates the parameter collection. We do this so that we don't need to load the QuantEcon package into every worker used in parallel computing.\n",
    "\n",
    "P_nonc denotes the parameter collection for non-college males and females. P_c denotes the one for college individuals."
   ]
  },
  {
   "cell_type": "code",
   "execution_count": 3,
   "metadata": {},
   "outputs": [],
   "source": [
    "ρ = 0.76\n",
    "gp_ν_s = 7\n",
    "m_non_c = QuantEcon.tauchen(gp_ν_s,ρ,0.79,0,2)\n",
    "mmpp_non_c = m_non_c.p\n",
    "@everywhere mp_non_c = $mmpp_non_c\n",
    "expMM_non_c = exp.(collect(m_non_c.state_values))\n",
    "@everywhere expM_non_c = $expMM_non_c\n",
    "\n",
    "P_nonc = Parameters(0.351, α_2 = 0.379, γ_h = 0.728, intercept = 0.196, age1 = 3.32, age2 = -0.086, age3 = 0.0007, child = -6.81, \n",
    "                interact = 0.133, markov = mp_non_c, grid_ν_s = expM_non_c, gp_ν_s = 7,\n",
    "                aux_ages = [17, 20, 25, 30, 40, 50, 55, 60, 65], aux_ν = [8.0, 1.12, 0.42, 0.29, 0.25, 0.24, 0.25, 0.34, 1.6],\n",
    "                starting_age = 17, Δ = 3.0, σ_h = 0.233, μ_ν_c = 0.7,σ = 0.79);\n",
    "P_nonc_black = Parameters(0.351, α_2 = 0.379, γ_h = 0.728, intercept = 0.196, age1 = 3.32, age2 = -0.086, age3 = 0.0007, child = -6.81,\n",
    "                interact = 0.133, markov = mp_non_c, grid_ν_s = expM_non_c, gp_ν_s = 7,\n",
    "                aux_ages = [17, 20, 25, 30, 40, 50, 55, 60, 65], aux_ν = [8.0, 1.12, 0.42, 0.29, 0.25, 0.24, 0.25, 0.34, 1.6],\n",
    "                starting_age = 17, Δ = 3.0, σ_h = 0.233, μ_ν_c = 0.65,σ = 0.79, black = true);\n",
    "\n",
    "m_c = QuantEcon.tauchen(gp_ν_s,ρ,1.345,0,2)\n",
    "mmpp_c = m_c.p\n",
    "@everywhere mp_c = $mmpp_c\n",
    "expMM_c = exp.(collect(m_c.state_values))\n",
    "@everywhere expM_c = $expMM_c\n",
    "\n",
    "P_c = Parameters(-0.31, α_2 = 0.457, γ_h = 0.976, intercept = -147.8, age1 = 16.09, age2 = -0.44, age3 = 0.0039, child = -12.56,\n",
    "                interact = 0.239, markov = mp_c, grid_ν_s = expM_c, gp_ν_s = 7,\n",
    "                aux_ages = [20, 21, 23, 25, 30, 40, 50, 60, 65], aux_ν = [35.10, 5.0, 0.35, 0.38, 0.07, 0.05, 0.05, 0.20, 0.86],\n",
    "                starting_age = 20, Δ = 4.15, σ_h = 0.395, μ_ν_c = 4.1, σ=1.345);"
   ]
  },
  {
   "cell_type": "markdown",
   "metadata": {},
   "source": [
    "## Solving for optimal policies"
   ]
  },
  {
   "cell_type": "markdown",
   "metadata": {},
   "source": [
    "### Functions"
   ]
  },
  {
   "cell_type": "markdown",
   "metadata": {},
   "source": [
    "In the next field we define a few functions that are needed within the functions that will solve for the optimal policies later on. The former include primarily three value functions: $W^j(h,n,\\nu)$, $H^j(h,n,\\nu)$, and $V^j(h,n,\\nu)$, which denote the value of working, staying at home, and the value of optimally deciding between these two options, respectively. Their functional form is defined on pages 174 and 175 in the paper. These values rely, among others, on the number of working hours $l(j,n)$, the value of optimal human capital accumulation $HCA(\\cdot)$, and the cost of exerting effort $c(j,h)$. Consequently, these three functions are also defined.\n",
    "\n",
    "Optimal human capital accumulation has a closed form solution. The function returns $HCA(\\cdot)$ the value of optimal effort and optimal effort itself obtained from this closed form solution. The derivation is as follows:\n",
    "\n",
    "\\begin{align}\n",
    "    \\max_e c(j,h)log(1-e)+e\\hat{V}^j(h(1+\\Delta),n,\\nu)&+(1-e)\\hat{V}^j(h,n,\\nu) \\\\\n",
    "    -\\frac{c(j,h)}{(1-e)} +\\hat{V}^j(h(1+\\Delta),n,\\nu) - \\hat{V}^j(h,n,\\nu) &= 0 \\\\\n",
    "    (1-e)(\\hat{V}^j(h(1+\\Delta),n,\\nu) - \\hat{V}^j(h,n,\\nu)) &= c(j,h) \\\\\n",
    "    1-e &= \\frac{c(j,h)}{\\hat{V}^j(h(1+\\Delta),n,\\nu) - \\hat{V}^j(h,n,\\nu)} \\\\\n",
    "    e &= 1-\\frac{c(j,h)}{\\hat{V}^j(h(1+\\Delta),n,\\nu) - \\hat{V}^j(h,n,\\nu)}\n",
    "\\end{align}"
   ]
  },
  {
   "cell_type": "code",
   "execution_count": 4,
   "metadata": {},
   "outputs": [],
   "source": [
    "@everywhere function c(j,h,P::Parameters) #cost function for exerting effort\n",
    "    age = P.starting_age+(j-1)/4\n",
    "    return (P.α_1+age^(P.α_2))*h^(P.γ_h)\n",
    "end\n",
    "@everywhere function HCA(c,V_hat,V_hat_delta) #Optimal human capital accumulation (HCA)\n",
    "    e = max(1-c/(V_hat_delta-V_hat),0)        #closed form solution of optimal effort\n",
    "    if e>1\n",
    "        error(\"outside of definition\")\n",
    "    end\n",
    "    return (c*log(1-e)+e*V_hat_delta+(1-e)*V_hat, e)\n",
    "end\n",
    "\n",
    "@everywhere function l(j,n,male_hours,P::Parameters) #working hours depending on age \"j\" and number of children \"n\"\n",
    "    hours = 0.9*male_hours\n",
    "    if j < 40\n",
    "        hours+P.child*n+P.interact*n*j\n",
    "    else\n",
    "        #working hours reduction due to children becomes obsolete after age 40\n",
    "        hours\n",
    "    end\n",
    "end\n",
    "\n",
    "@everywhere function normalize(hours)\n",
    "    hours/49.6\n",
    "end\n",
    "\n",
    "@everywhere function W(j,h,n,ν,VV_hat,VV_hat_delta,ll,P::Parameters) #Value of working\n",
    "    cc = c(j,h,P)\n",
    "    (opt_HCA,e) = HCA(cc,VV_hat,VV_hat_delta)\n",
    "    uu = h*ν\n",
    "    aux_val = h*ll + (1-ll)*uu + P.γ_n*log(1+n) + opt_HCA\n",
    "    return (aux_val, e)\n",
    "end\n",
    "\n",
    "@everywhere function H(j,h,n,ν,VV_hat,P::Parameters) #Value of staying at home\n",
    "    uu = h*ν\n",
    "    return uu + P.γ_n*log(1+n)+VV_hat\n",
    "end\n",
    "@everywhere function hours(P::Parameters)\n",
    "    if false #P.starting_age==17 ##Non-college\n",
    "        wrk_hours_NLSY_nonc = [41.61602,42.52877,43.17405,43.6543,44.5026,44.78812,44.7719,45.06112,45.66928,\n",
    "        45.73491,45.88558,46.09651,46.17676,46.19064,46.91763,47.36696,47.22327,47.35094,47.10267,46.68125,\n",
    "        46.69777, 46.75841, 46.66045 ,46.34579]\n",
    "        wrk_hours_CPS_nonc =[20.95905,28.89055,34.11965,36.50318,38.31971,40.54175,41.49739,42.29336,42.89416,\n",
    "        42.94616,43.23666,43.39517,43.57509,43.54637,43.90628,43.89597,43.97261,44.12801,43.89708,43.8616, \n",
    "        43.9502,43.9412,44.02615,43.94618,43.93134,43.98629,43.84266,44.1197,43.80469,43.8161,43.86501,43.78159, \n",
    "        43.55139,43.52779,43.54522,43.51697,43.21266,42.93177,42.50974,42.39488,42.18402,42.18699,42.42397,41.7017,\n",
    "        41.246, 39.19218, 38.49695, 38.1042, 35.95146]\n",
    "        hours_worked = [collect(wrk_hours_NLSY_nonc[1:21]);collect(wrk_hours_CPS_nonc[25:end])]\n",
    "    elseif false #P.starting_age==20 ## College\n",
    "        wrk_hours_NLSY_c = [31.69323,30.86017,35.1141,39.10999,41.4514,43.22748,44.10023,45.18816,45.48891,46.64455, \n",
    "        47.29931,47.54831,47.4838,47.48338,47.88516,48.17429,48.33657,48.34683,48.21116,47.64887,47.07518,\n",
    "        47.0506,47.47623,47.56988]\n",
    "        wrk_hours_CPS_c = [44.88889,38.41176,35.14286,37.4472,39.45081,41.07805,42.3377,43.23596,44.32782,44.65733,44.96303,\n",
    "        45.36479,45.55287,45.9503,46.08944,46.59121,46.55041,46.61579,46.74215,46.8897,46.6334,47.20395,47.04182,\n",
    "        46.73362,46.87761,46.68553,46.40274,46.7908,46.40085, 46.51598,46.44224,46.45074,46.23458,46.4615,45.75699,45.57569,\n",
    "        44.63604,45.10394,44.52839,44.11532,44.06484,43.72736,42.92652,41.62637,41.58209,39.90182,37.64368]\n",
    "        hours_worked = [collect(wrk_hours_NLSY_c[1:21]);collect(wrk_hours_CPS_c[23:end])]\n",
    "    else\n",
    "        wrk_hours_NLSY_all =[39.09459,39.56225,41.15072,42.5114,43.73147,44.39577,44.60279,45.09376,45.62251,45.96919,\n",
    "            46.25466,46.47443,46.51523,46.52374,47.16737,47.57628,47.51178,47.61147,47.39395,46.93997,46.79821,46.8379,\n",
    "            46.88184,46.67376]\n",
    "        wrk_hours_CPS_all=[20.95905,28.89055,34.1324,36.50721,38.2761,40.23252,41.16984,42.06722,42.78102,43.01234,\n",
    "            43.49506,43.71818,43.94692,44.0628,44.38766,44.49844,44.59843,44.86217,44.68788,44.69109,44.8023,44.85968,\n",
    "            44.86664,44.96542,44.92937,44.86303,44.82444,44.95251,44.65644,44.81043,44.71614,44.71489,44.52945,44.52751,\n",
    "            44.49105,44.53985,44.12905,43.89655,43.27912,43.3735,43.03038,42.87579,42.97711,42.38791,41.81822,40.03535,\n",
    "            39.62034,38.7056,36.56108]\n",
    "        hours_worked = [collect(wrk_hours_NLSY_all[1:21]);collect(wrk_hours_CPS_all[25:end])]\n",
    "    end\n",
    "    \n",
    "    return hours_worked\n",
    "end"
   ]
  },
  {
   "cell_type": "markdown",
   "metadata": {},
   "source": [
    "Subsequently, we define the function that solves the policy functions for men. In a first bloc all the needed matrices are preallocated. We have three value functions for working, staying at home, and the optimal decision between the two. Furthermore, we have two policy functions: optimal decision of going to work (or not) and optimal exerted effort. Additionally, we have some auxiliary variables that need preallocation to perform parallel computing.\n",
    "\n",
    "The state of a man is fully defined by the three variables: the level of human capital, the period withing the life-cycle and the stochastic value of staying at home $\\nu_s$. The three variables then determine the size of the three dimensions that the policy and value functions have. Note that the paper only denotes two state variables for men: $\\nu$ and the stock of human capital. However, for men $\\nu$ has two dimensions as it equals $\\nu=\\nu_j \\nu_s$. The notation of the paper therefore implicitely also includes the same three dimensions.\n",
    "\n",
    "We use backwards induction to solve for all the combinations of human capital level and $\\nu_s$ gridpoints. We start with the last period $J$, where the value is determined myopically. For all other periods, we use the value of the next period to include the dynamic component. Due to the stochastic components, the value of entering the next period is an expected value. The stochasticity has two components: First, whether the effort of human capital accumulation is successful. This only applies in the case of working. Second, the stochastic value of staying at home $\\nu_s$ that follows an AR(1) process. We approximate the AR(1) process with the Tauchen method. This means that we discretize the continuous AR(1) process to a markov matrix with according gridpoints."
   ]
  },
  {
   "cell_type": "code",
   "execution_count": 5,
   "metadata": {},
   "outputs": [
    {
     "data": {
      "text/plain": [
       "male_policy (generic function with 1 method)"
      ]
     },
     "execution_count": 5,
     "metadata": {},
     "output_type": "execute_result"
    }
   ],
   "source": [
    "function male_policy(P::Parameters)\n",
    "    #Preallocation\n",
    "    #Value functions\n",
    "    W_value = SharedArray{Float64}(P.gp_h, P.J, P.gp_ν_s) #Working\n",
    "    H_value = SharedArray{Float64}(P.gp_h, P.J, P.gp_ν_s) #Staying at home\n",
    "    V_value = SharedArray{Float64}(P.gp_h, P.J, P.gp_ν_s) #Optimal labor decision\n",
    "    #policy functions\n",
    "    labor_policy = SharedArray{Float64}(P.gp_h, P.J, P.gp_ν_s) #labor decision\n",
    "    effort_policy = SharedArray{Float64}(P.gp_h, P.J, P.gp_ν_s) # effort decision\n",
    "    #initialisation of remaining variables\n",
    "    age = SharedArray{Float64}(1)\n",
    "    ll = SharedArray{Float64}(1)\n",
    "    #itp_h = SharedArray{Float64}(P.gp_h,P.gp_ν_s)\n",
    "    #etp_h = SharedArray{Float64}(P.gp_h,P.gp_ν_s)\n",
    "    knots = (P.aux_ages,)\n",
    "    int_ν_j = interpolate(knots, P.aux_ν, Gridded(Linear()))\n",
    "    hours_worked = hours(P::Parameters)\n",
    "    itp_hours = interpolate((collect(20:65),), hours_worked, Gridded(Linear())) \n",
    "    etp_hours = extrapolate(itp_hours, Line())\n",
    "    #Solving\n",
    "    #Last period\n",
    "    age = P.starting_age+(P.J-1)/4\n",
    "    ll = normalize(etp_hours(age)) #scale working hours up by exogenous factor\n",
    "    for (ind_h,h) in enumerate(P.grid_h)\n",
    "        for (ind_ν, ν_s) in enumerate(P.grid_ν_s)\n",
    "            ν = int_ν_j(age)*ν_s\n",
    "            (W_value[ind_h,P.J,ind_ν], effort_policy[ind_h, P.J,ind_ν]) = W(P.J,h,0,ν,10^(-8),10^(-6),ll,P)\n",
    "            H_value[ind_h,P.J,ind_ν]                                  = H(P.J,h,0,ν,10^(-8),P)\n",
    "            V_value[ind_h,P.J,ind_ν]                                  = max.(W_value[ind_h,P.J,ind_ν],H_value[ind_h,P.J,ind_ν])\n",
    "            labor_policy[ind_h,P.J,ind_ν]                             = 1*(W_value[ind_h,P.J,ind_ν]>H_value[ind_h,P.J,ind_ν])\n",
    "        end\n",
    "    end\n",
    "    #Backwards induction\n",
    "    for j in P.J-1:-1:1\n",
    "        #allocation of auxiliary variables and interpolations that are constant across states\n",
    "        age = P.starting_age+(j-1)/4\n",
    "        ll = normalize(etp_hours(age)) #scale working hours up by exogenous factor\n",
    "        #println(age)\n",
    "        itp_h = interpolate((P.grid_h,P.grid_ν_s),V_value[:,j+1,:],Gridded(Linear()))\n",
    "        etp_h = extrapolate(itp_h, Line())\n",
    "        #solving for all combinations of human capital and ν_s gridpoints\n",
    "        @sync @distributed for ind in 1:(P.gp_h*P.gp_ν_s)\n",
    "            #preparing all inputs needed for later calculations\n",
    "            ind_ν = convert(Int, ceil(ind/P.gp_h))\n",
    "            ind_h = convert(Int, floor(mod(ind-0.05, P.gp_h))+1)\n",
    "            h = P.grid_h[ind_h]       #current human capital\n",
    "            h_delta = h*(1+(P.Δ/100)) #future human capital if accumulation is successful\n",
    "            ν_s = P.grid_ν_s[ind_ν]   #stochastic component of staying at home\n",
    "            contval = 0       #initialisation of expected value of next period if HK acc. is NOT successful\n",
    "            contval_delta = 0 #initialisation of expected value of next period if HK acc. IS successful\n",
    "            for (ind_ν_2, ν_s_2) in enumerate(P.grid_ν_s)\n",
    "                contval       = contval      + P.markov[ind_ν,ind_ν_2]*etp_h(h,ν_s_2)\n",
    "                contval_delta = contval_delta+ P.markov[ind_ν,ind_ν_2]*etp_h(h_delta,ν_s_2)\n",
    "            end\n",
    "            ν = int_ν_j(age)*ν_s     #value of staying at home: deterministic component times stochastic component\n",
    "            #calculating the values and optimal policies\n",
    "            (W_value[ind_h,j,ind_ν], effort_policy[ind_h, j,ind_ν]) = W(j, h, 0, ν, P.β*contval, P.β*contval_delta, ll, P)\n",
    "            H_value[ind_h,j,ind_ν] = H(j,h,0,ν, P.β*contval,P)\n",
    "            V_value[ind_h,j,ind_ν] = max.(W_value[ind_h,j,ind_ν],H_value[ind_h,j,ind_ν])\n",
    "            labor_policy[ind_h,j,ind_ν] = 1*(W_value[ind_h,j,ind_ν]>H_value[ind_h,j,ind_ν])\n",
    "        end\n",
    "    end\n",
    "    return (W_value, H_value, V_value, labor_policy, effort_policy)\n",
    "end"
   ]
  },
  {
   "cell_type": "markdown",
   "metadata": {},
   "source": [
    "The female case is an extension of the male case. The model assumes that females differ from males in the regard of their possibility of having children. Consequently, a choice variable is added to the problem, namely the decision to have an additional child (-> child_policy). This means that we include a third policy function for this decision and a fourth value, that denotes the expected value of entering a period and behaving optimally with regard to all choice variables, including the fertility decision. We denote this as B_value.\n",
    "\n",
    "The addition of fertility decisions opens up two more dimensions in the state of a woman compared to a man. The (stochastic) value of enjoying a newborn child at home $\\nu_c$ and the number of children $n$. For the former keep in mind that $\\nu$ is defined of being $\\nu=\\nu_j(\\nu_s+\\nu_c)$. However, $\\nu_c$ can only be enjoyed if a woman has a newborn child. Consequently, we have $\\nu=\\nu_j(\\nu_s+\\nu_c)$ if a woman has a newborn and otherwise we have $\\nu=\\nu_j\\nu_s$, as in the male case.\n",
    "\n",
    "The state of women is then fully defined in five dimensions (the first three are identical to the male case):\n",
    "* human capital $h$\n",
    "* age/period $j$\n",
    "* the stochastic value of staying at home $\\nu_s$\n",
    "* the stochastic value of staying at home with a newborn child $\\nu_c$\n",
    "* the number of children $n$"
   ]
  },
  {
   "cell_type": "code",
   "execution_count": 6,
   "metadata": {},
   "outputs": [
    {
     "data": {
      "text/plain": [
       "female_policy (generic function with 1 method)"
      ]
     },
     "execution_count": 6,
     "metadata": {},
     "output_type": "execute_result"
    }
   ],
   "source": [
    "function female_policy(P::Parameters)\n",
    "    #Value functions\n",
    "    W_value = SharedArray{Float64}(P.gp_h, P.J, P.gp_ν_s, P.gp_ν_c, P.gp_n) #Working\n",
    "    H_value = SharedArray{Float64}(P.gp_h, P.J, P.gp_ν_s, P.gp_ν_c, P.gp_n) #Staying at home\n",
    "    V_value = SharedArray{Float64}(P.gp_h, P.J, P.gp_ν_s, P.gp_ν_c, P.gp_n) #Optimal labor decision\n",
    "    B_value = SharedArray{Float64}(P.gp_h, P.J, P.gp_ν_s, P.gp_ν_c, P.gp_n) #Continuation value\n",
    "    #Policy functions\n",
    "    labor_policy = SharedArray{Float64}(P.gp_h, P.J, P.gp_ν_s, P.gp_ν_c, P.gp_n) #labor decision\n",
    "    effort_policy = SharedArray{Float64}(P.gp_h, P.J, P.gp_ν_s, P.gp_ν_c, P.gp_n) #effort decision\n",
    "    child_policy = SharedArray{Float64}(P.gp_h, P.J, P.gp_ν_s, P.gp_ν_c, P.gp_n) #fertility decision\n",
    "    #initialisation of remaining variables\n",
    "    age = SharedArray{Float64}(1)\n",
    "    ll = SharedArray{Float64}(1)\n",
    "    #itp_h = SharedArray{Float64}(P.gp_h,P.gp_ν_s, P.gp_ν_c)\n",
    "    #etp_h = SharedArray{Float64}(P.gp_h,P.gp_ν_s, P.gp_ν_c)\n",
    "    knots = (P.aux_ages,)\n",
    "    int_ν_j = interpolate(knots, P.aux_ν, Gridded(Linear()))\n",
    "    prob_ν_c = SharedArray{Float64}(P.gp_ν_c)\n",
    "    prob_ν_c = pdf.(Exponential(P_c.μ_ν_c),P_c.grid_ν_c)\n",
    "    prob_ν_c = prob_ν_c./sum(prob_ν_c)\n",
    "    hours_worked = hours(P::Parameters)\n",
    "    itp_hours = interpolate((collect(20:65),), hours_worked, Gridded(Linear())) \n",
    "    etp_hours = extrapolate(itp_hours, Line())\n",
    "    #Last period\n",
    "    age = P.starting_age+(P.J-1)/4\n",
    "    for (ind_n,n) in enumerate(P.grid_n)\n",
    "        ll = normalize(l(age,n,etp_hours(age),P))\n",
    "        for (ind_h,h) in enumerate(P.grid_h)\n",
    "            for (ind_ν, ν_s) in enumerate(P.grid_ν_s)\n",
    "                ν = int_ν_j(age)*ν_s\n",
    "                (WW, ee)                                              = W(P.J,h,n,ν,10^(-8),10^(-6),ll,P)\n",
    "                HH                                                    = H(P.J,h,n,ν,10^(-8),P)\n",
    "                W_value[ind_h,P.J,ind_ν,:, ind_n]                     = ones(1,P.gp_ν_c)*WW\n",
    "                effort_policy[ind_h, P.J,ind_ν,:, ind_n]              = ones(1,P.gp_ν_c)*ee\n",
    "                H_value[ind_h,P.J,ind_ν,:, ind_n]                     = ones(1,P.gp_ν_c)*HH\n",
    "                V_value[ind_h,P.J,ind_ν,:, ind_n]                     = ones(1,P.gp_ν_c)*max.(WW,HH)\n",
    "                B_value[ind_h,P.J,ind_ν,:,ind_n]                      = ones(1,P.gp_ν_c)*max.(WW,HH)\n",
    "                labor_policy[ind_h,P.J,ind_ν,:, ind_n]                = ones(1,P.gp_ν_c)*(WW>HH)\n",
    "            end\n",
    "        end\n",
    "    end\n",
    "    #Backwards induction until 40 years -> irrelevant child decision\n",
    "    for j in P.J-1:-1:((40-P.starting_age)*4)\n",
    "        age = P.starting_age+(j-1)/4\n",
    "        #println(age)\n",
    "        itp_h = interpolate((P.grid_h,P.grid_ν_s,P.grid_ν_c,P.grid_n),B_value[:,j+1,:,:,:],Gridded(Linear()))\n",
    "        etp_h = extrapolate(itp_h, Line())\n",
    "        @sync @distributed for ind in 1:(P.gp_h*P.gp_ν_s)\n",
    "            ind_ν_s = convert(Int, ceil(ind/P.gp_h))\n",
    "            ind_h = convert(Int, floor(mod(ind-0.05, P.gp_h))+1)\n",
    "            h = P.grid_h[ind_h]\n",
    "            h_delta = h*(1+(P.Δ/100))\n",
    "            ν_s = P.grid_ν_s[ind_ν_s]\n",
    "            ν = int_ν_j(age)*(ν_s+0)\n",
    "            for (ind_n,n) in enumerate(P.grid_n)\n",
    "                ll = normalize(l(age,n,etp_hours(age),P))\n",
    "                contval = 0\n",
    "                contval_delta = 0\n",
    "                for (ind_ν_2, ν_s_2) in enumerate(P.grid_ν_s)\n",
    "                    contval       = contval      + P.markov[ind_ν_s,ind_ν_2]*etp_h(h,ν_s_2,0,n)\n",
    "                    contval_delta = contval_delta+ P.markov[ind_ν_s,ind_ν_2]*etp_h(h_delta,ν_s_2,0,n)\n",
    "                end\n",
    "                (WW, ee)                                        = W(j, h, n, ν, P.β*contval, P.β*contval_delta, ll, P)\n",
    "                HH                                              = H(j,h,n,ν, P.β*contval,P)\n",
    "                W_value[ind_h,j,ind_ν_s,:, ind_n]                 = ones(1,P.gp_ν_c)*WW\n",
    "                effort_policy[ind_h, j,ind_ν_s,:, ind_n]          = ones(1,P.gp_ν_c)*ee\n",
    "                H_value[ind_h,j,ind_ν_s,:, ind_n]                 = ones(1,P.gp_ν_c)*HH\n",
    "                V_value[ind_h,j,ind_ν_s,:, ind_n]                 = ones(1,P.gp_ν_c)*max.(WW,HH)\n",
    "                B_value[ind_h,j,ind_ν_s,:,ind_n]                  = ones(1,P.gp_ν_c)*max.(WW,HH)\n",
    "                labor_policy[ind_h,j,ind_ν_s,:, ind_n]            = ones(1,P.gp_ν_c)*(WW>HH)\n",
    "            end\n",
    "        end\n",
    "    end\n",
    "    #Backwards induction before 40 years -> relevant child decision\n",
    "    for j in ((40-P.starting_age)*4-1):-1:1\n",
    "        age = P.starting_age+(j-1)/4\n",
    "        #print(age, \" \")\n",
    "        itp_h = interpolate((P.grid_h,P.grid_ν_s,P.grid_ν_c,P.grid_n),B_value[:,j+1,:,:,:],Gridded(Linear()))\n",
    "        etp_h = extrapolate(itp_h, Line())\n",
    "        @sync @distributed for ind in 1:(P.gp_h*P.gp_ν_s)\n",
    "            ind_ν_s = convert(Int, ceil(ind/P.gp_h))\n",
    "            ind_h = convert(Int, floor(mod(ind-0.05, P.gp_h))+1)\n",
    "            h = P.grid_h[ind_h]\n",
    "            h_delta = h*(1+(P.Δ/100))\n",
    "            ν_s = P.grid_ν_s[ind_ν_s]\n",
    "            for (ind_n,n) in enumerate(P.grid_n)\n",
    "                ll = normalize(l(age,n,etp_hours(age),P))\n",
    "                for (ind_ν_c, ν_c) in enumerate(P.grid_ν_c)\n",
    "                    contval = 0\n",
    "                    contval_delta = 0\n",
    "                    for (ind_ν_2, ν_s_2) in enumerate(P.grid_ν_s)\n",
    "                        for (ind_ν_c_2, ν_c_2) in enumerate(P.grid_ν_c)\n",
    "                            contval       = contval      + prob_ν_c[ind_ν_c_2]*P.markov[ind_ν_s,ind_ν_2]*etp_h(h,ν_s_2,ν_c_2,n)\n",
    "                            contval_delta = contval_delta+ prob_ν_c[ind_ν_c_2]*P.markov[ind_ν_s,ind_ν_2]*etp_h(h_delta,ν_s_2,ν_c_2,n)\n",
    "                        end\n",
    "                    end\n",
    "                    ν = int_ν_j(age)*(ν_s+ν_c)\n",
    "                    (W_value[ind_h,j,ind_ν_s,ind_ν_c,ind_n], effort_policy[ind_h, j,ind_ν_s,ind_ν_c, ind_n]) = W(j,h,n,ν,P.β*contval,P.β*contval_delta,ll,P)\n",
    "                    H_value[ind_h,j,ind_ν_s,ind_ν_c, ind_n] = H(j,h,n,ν, P.β*contval,P)\n",
    "                    V_value[ind_h,j,ind_ν_s,ind_ν_c, ind_n] = max.(W_value[ind_h,j,ind_ν_s,ind_ν_c, ind_n],H_value[ind_h,j,ind_ν_s,ind_ν_c, ind_n])\n",
    "                    labor_policy[ind_h,j,ind_ν_s,ind_ν_c, ind_n] = 1*(W_value[ind_h,j,ind_ν_s,ind_ν_c, ind_n]>H_value[ind_h,j,ind_ν_s,ind_ν_c, ind_n])\n",
    "                end\n",
    "            end\n",
    "        end\n",
    "        itp_V = interpolate((P.grid_h,P.grid_ν_s,P.grid_ν_c,P.grid_n),V_value[:,j,:,:,:],Gridded(Linear()))\n",
    "        etp_V = extrapolate(itp_V, Line())\n",
    "        @sync @distributed for ind in 1:(P.gp_h*P.gp_ν_s)\n",
    "            ind_ν_s = convert(Int, ceil(ind/P.gp_h))\n",
    "            ind_h = convert(Int, floor(mod(ind-0.05, P.gp_h))+1)\n",
    "            h = P.grid_h[ind_h]\n",
    "            ν_s = P.grid_ν_s[ind_ν_s]\n",
    "            for (ind_n,n) in enumerate(P.grid_n)\n",
    "                for (ind_ν_c, ν_c) in enumerate(P.grid_ν_c)\n",
    "                    child_policy[ind_h,j,ind_ν_s,ind_ν_c, ind_n] = 1*(etp_V(h,ν_s,ν_c,n+1) .>  etp_V(h,ν_s,0,n))\n",
    "                    B_value[ind_h,j,ind_ν_s,ind_ν_c,ind_n] = P.θ[j,ind_n]*max.(etp_V(h,ν_s,ν_c,n+1), etp_V(h,ν_s,0,n))+(1-P.θ[j,ind_n])*etp_V(h,ν_s,0,n)\n",
    "                end\n",
    "            end\n",
    "        end\n",
    "    end\n",
    "    return (W_value, H_value, V_value, B_value, labor_policy, effort_policy, child_policy)\n",
    "end"
   ]
  },
  {
   "cell_type": "markdown",
   "metadata": {},
   "source": [
    "### Solving the Policy Functions\n",
    "Now we use the functions and the input parameters to solve for optimal policies of males and females from both the college and the non-college group.\n",
    "#### Males"
   ]
  },
  {
   "cell_type": "code",
   "execution_count": 7,
   "metadata": {},
   "outputs": [
    {
     "name": "stdout",
     "output_type": "stream",
     "text": [
      "  7.887892 seconds (7.95 M allocations: 411.369 MiB, 3.04% gc time)\n",
      "  0.461846 seconds (281.61 k allocations: 27.596 MiB, 1.57% gc time)\n"
     ]
    }
   ],
   "source": [
    "@time (W_value_m_c, H_value_m_c, V_value_m_c, labor_policy_m_c, effort_policy_m_c) = male_policy(P_c);\n",
    "@time (W_value_m_nonc, H_value_m_nonc, V_value_m_nonc, labor_policy_m_nonc, effort_policy_m_nonc) = male_policy(P_nonc);"
   ]
  },
  {
   "cell_type": "code",
   "execution_count": 8,
   "metadata": {},
   "outputs": [],
   "source": [
    "#save(\"m_c.jld\",\"labor_policy\", labor_policy_m_c, \"effort_policy\", effort_policy_m_c, \"P\", P_c) # store\n",
    "#save(\"m_nonc.jld\",\"labor_policy\", labor_policy_m_nonc, \"effort_policy\", effort_policy_m_nonc, \"P\", P_nonc)"
   ]
  },
  {
   "cell_type": "markdown",
   "metadata": {},
   "source": [
    "#### Females"
   ]
  },
  {
   "cell_type": "code",
   "execution_count": 9,
   "metadata": {},
   "outputs": [
    {
     "name": "stdout",
     "output_type": "stream",
     "text": [
      " 42.343541 seconds (4.89 M allocations: 316.716 MiB, 0.39% gc time)\n",
      " 43.930333 seconds (582.19 k allocations: 106.462 MiB, 0.08% gc time)\n",
      " 43.497063 seconds (582.23 k allocations: 106.471 MiB, 0.08% gc time)\n"
     ]
    }
   ],
   "source": [
    "@time (W_value_f_c, H_value_f_c, V_value_f_c, B_value_f_c, labor_policy_f_c, effort_policy_f_c, child_policy_f_c) = female_policy(P_c);\n",
    "@time (W_value_f_nonc, H_value_f_nonc, V_value_f_nonc, B_value_f_nonc, labor_policy_f_nonc, effort_policy_f_nonc, child_policy_f_nonc) = female_policy(P_nonc);\n",
    "@time (W_value_f_nonc_black, H_value_f_nonc_black, V_value_f_nonc_black, B_value_f_nonc_black, labor_policy_f_nonc_black, effort_policy_f_nonc_black, child_policy_f_nonc_black) = female_policy(P_nonc_black);"
   ]
  },
  {
   "cell_type": "code",
   "execution_count": 10,
   "metadata": {},
   "outputs": [],
   "source": [
    "save(\"f_c_6.jld\",\"labor_policy\",labor_policy_f_c, \"effort_policy\", effort_policy_f_c, \"child_policy\", child_policy_f_c,\"P\", P_c);\n",
    "save(\"f_nonc_6.jld\",\"labor_policy\",labor_policy_f_nonc, \"effort_policy\", effort_policy_f_nonc, \"child_policy\", child_policy_f_nonc,\"P\", P_nonc);\n",
    "save(\"f_nonc_black_6.jld\",\"labor_policy\",labor_policy_f_nonc_black, \"effort_policy\", effort_policy_f_nonc_black, \"child_policy\", child_policy_f_nonc_black,\"P\", P_nonc_black);"
   ]
  },
  {
   "cell_type": "markdown",
   "metadata": {},
   "source": [
    "## Running the Simulations\n",
    "Subsequently, we run the simulations and store all our needed variables to compute all inputs needed for the plots and tables."
   ]
  },
  {
   "cell_type": "markdown",
   "metadata": {},
   "source": [
    "### Males"
   ]
  },
  {
   "cell_type": "code",
   "execution_count": 11,
   "metadata": {},
   "outputs": [
    {
     "data": {
      "text/plain": [
       "male_simulation (generic function with 1 method)"
      ]
     },
     "execution_count": 11,
     "metadata": {},
     "output_type": "execute_result"
    }
   ],
   "source": [
    "function male_simulation(labor_policy, effort_policy,P::Parameters)\n",
    "    N = 1000 #number of simulations\n",
    "    h_sim = SharedArray{Float64}(P.J+1,N)\n",
    "    h_sim[1,:] = exp.(max.(rand(Normal(P.μ_h, P.σ_h),N),0))\n",
    "    ν_s_sim = SharedArray{Float64}(P.J+1,N)\n",
    "    ν_s_sim[1,:] = ones(N)\n",
    "    income_sim = SharedArray{Float64}(P.J,N)\n",
    "    labor_sim = SharedArray{Int64}(P.J,N)\n",
    "    effort_sim = SharedArray{Float64}(P.J,N)\n",
    "    hc_draw_sim = rand(Uniform(),P.J,N) #stochastic component to determine the success of HK accumulation  省的用概率了\n",
    "    innovation_sim = rand(Normal(0,P.σ),P.J,N) #innovation of AR1 process\n",
    "    working_hours_sim = SharedArray{Float64}(P.J,N)\n",
    "    unemployment_duration = SharedArray{Int64}(P.J+1,N) #counts how long an unemployment spell is in quarters\n",
    "    unemployment_duration[1,:] = zeros(N)\n",
    "    unemployment_spell_end = SharedArray{Float64}(P.J,N) #denotes the last period of an unemployment spell\n",
    "    itp_l = interpolate((P.grid_h,collect(1:P.J),P.grid_ν_s),labor_policy[:,:,:],Gridded(Constant()))\n",
    "    etp_l = extrapolate(itp_l, Flat())\n",
    "    itp_e = interpolate((P.grid_h,collect(1:P.J),P.grid_ν_s),effort_policy[:,:,:],Gridded(Linear()))\n",
    "    etp_e = extrapolate(itp_e, Line())\n",
    "    #hours_worked = SharedArray{Float64}(46)\n",
    "    #hours_worked = hours(P::Parameters)\n",
    "    itp_hours = interpolate((collect(20:65),), hours(P::Parameters), Gridded(Linear())) \n",
    "    etp_hours = extrapolate(itp_hours, Line())\n",
    "    \n",
    "    \n",
    "    @sync @distributed for n in 1:N\n",
    "        for j in 1:P.J\n",
    "            age = P.starting_age+(j-1)/4\n",
    "            ν_s_sim[j+1,n] = exp(P.ρ*log(ν_s_sim[j,n])+innovation_sim[j,n])\n",
    "            labor = etp_l(h_sim[j,n],j,ν_s_sim[j+1,n])\n",
    "            eff = etp_e(h_sim[j,n],j,ν_s_sim[j+1,n])\n",
    "            labor_sim[j,n] = labor\n",
    "            working_hours_sim[j,n] = labor*etp_hours(age)\n",
    "            unemployment_duration[j+1,n] = (-1*trunc(Int,labor)+1)*(1+unemployment_duration[j,n])\n",
    "            unemployment_spell_end[j,n] = (-1*trunc(Int,labor)+1)*min(unemployment_duration[j,n],1)\n",
    "            income_sim[j,n] = h_sim[j,n]*etp_hours(age)#*labor\n",
    "\n",
    "            effort_sim[j,n] = eff\n",
    "            if eff >= hc_draw_sim[j,n]\n",
    "                h_sim[j+1,n] = h_sim[j,n]*(1+P.Δ/100)\n",
    "            else\n",
    "                h_sim[j+1,n] = h_sim[j,n]\n",
    "            end\n",
    "            \n",
    "        end\n",
    "    end\n",
    "    return (h_sim[1:P.J,:], labor_sim, working_hours_sim, income_sim, unemployment_duration[2:P.J+1,:], [unemployment_spell_end[2:P.J,:]; zeros(N)'])\n",
    "end"
   ]
  },
  {
   "cell_type": "code",
   "execution_count": 12,
   "metadata": {},
   "outputs": [
    {
     "name": "stdout",
     "output_type": "stream",
     "text": [
      "  4.815616 seconds (3.88 M allocations: 204.374 MiB, 2.74% gc time)\n",
      "  0.169628 seconds (85.57 k allocations: 14.625 MiB, 9.12% gc time)\n"
     ]
    }
   ],
   "source": [
    "@time (h_sim_m_nonc, labor_sim_m_nonc, working_hours_sim_m_nonc, income_sim_m_nonc,unemployment_duration_m_nonc,unemployment_spell_end_m_nonc) = male_simulation(labor_policy_m_nonc, effort_policy_m_nonc,P_nonc);\n",
    "@time (h_sim_m_c, labor_sim_m_c, working_hours_sim_m_c, income_sim_m_c,unemployment_duration_m_c,unemployment_spell_end_m_c) = male_simulation(labor_policy_m_c, effort_policy_m_c,P_c);"
   ]
  },
  {
   "cell_type": "markdown",
   "metadata": {},
   "source": [
    "### Females"
   ]
  },
  {
   "cell_type": "code",
   "execution_count": 13,
   "metadata": {},
   "outputs": [
    {
     "data": {
      "text/plain": [
       "female_simulation (generic function with 1 method)"
      ]
     },
     "execution_count": 13,
     "metadata": {},
     "output_type": "execute_result"
    }
   ],
   "source": [
    "function female_simulation(labor_policy, effort_policy, child_policy,P::Parameters)\n",
    "    N = 1000 #number of simulations\n",
    "    h_sim = SharedArray{Float64}(P.J+1,N)\n",
    "    h_sim[1,:] = exp.(max.(rand(Normal(P.μ_h, P.σ_h),N),0))\n",
    "    ν_s_sim = SharedArray{Float64}(P.J+1,N)\n",
    "    ν_s_sim[1,:] = ones(N)\n",
    "    ν_c_sim = rand(Exponential(P.μ_ν_c),(P.J,N))\n",
    "    fertility_sim = SharedArray{Int64}(P.J,N)\n",
    "    income_sim = SharedArray{Float64}(P.J,N)\n",
    "    children_sim = SharedArray{Int64}(P.J+1,N)\n",
    "    children_sim[1,:] = zeros(N)\n",
    "    youngest_child_age = SharedArray{Float64}(P.J+1,N)\n",
    "    youngest_child_age[1,:] = fill(-1000,N)\n",
    "    labor_sim = SharedArray{Int64}(P.J,N)\n",
    "    unemployment_duration = SharedArray{Int64}(P.J+1,N) #counts how long an unemployment spell is in quarters\n",
    "    unemployment_duration[1,:] = zeros(N)\n",
    "    unemployment_spell_end = SharedArray{Float64}(P.J,N) #denotes the last period of an unemployment spell\n",
    "    effort_sim = SharedArray{Float64}(P.J,N)\n",
    "    hc_draw_sim = rand(Uniform(),(P.J,N)) #stochastic component to determine the success of HK accumulation\n",
    "    innovation_sim = rand(Normal(0,P.σ),(P.J,N)) #innovation of AR1 process\n",
    "    working_hours_sim = SharedArray{Float64}(P.J,N)\n",
    "    child_sim = SharedArray{Int64}(P.J+1,N)\n",
    "    itp_l = interpolate((P.grid_h,collect(1:P.J),P.grid_ν_s,P.grid_ν_c,P.grid_n),labor_policy[:,:,:,:,:],Gridded(Constant()))\n",
    "    etp_l = extrapolate(itp_l, Flat())\n",
    "    itp_c = interpolate((P.grid_h,collect(1:P.J),P.grid_ν_s,P.grid_ν_c,P.grid_n),child_policy[:,:,:,:,:],Gridded(Constant()))\n",
    "    etp_c = extrapolate(itp_c, Flat())\n",
    "    itp_e = interpolate((P.grid_h,collect(1:P.J),P.grid_ν_s,P.grid_ν_c,P.grid_n),effort_policy[:,:,:,:,:],Gridded(Linear()))\n",
    "    etp_e = extrapolate(itp_e, Line())\n",
    "    hours_worked = hours(P::Parameters)\n",
    "    itp_hours = interpolate((collect(20:65),), hours_worked, Gridded(Linear())) \n",
    "    etp_hours = extrapolate(itp_hours, Line())\n",
    "    \n",
    "    @sync @distributed for n in 1:N\n",
    "        for j in 1:P.J\n",
    "            age = P.starting_age+(j-1)/4\n",
    "            ν_s_sim[j+1,n] = exp(P.ρ*log(ν_s_sim[j,n])+innovation_sim[j,n])\n",
    "            prob = P.θ[j,min(child_sim[j,n]+1,P.gp_n)] #probability of arising fertility decision\n",
    "            if rand(Bernoulli(prob)) == 1 #woman is allowed to do fertility decision\n",
    "                child = etp_c(h_sim[j,n],j,ν_s_sim[j+1,n],ν_c_sim[j,n],children_sim[j,n])\n",
    "                children_sim[j+1,n] = children_sim[j,n]+trunc(Int, child)\n",
    "                if child == 1\n",
    "                    fertility_sim[j,n] = 1\n",
    "                    labor = etp_l(h_sim[j,n],j,ν_s_sim[j+1,n],ν_c_sim[j+1,n],children_sim[j+1,n])\n",
    "                    eff = etp_e(h_sim[j,n],j,ν_s_sim[j+1,n],ν_c_sim[j+1,n],children_sim[j+1,n])\n",
    "                    youngest_child_age[j+1,n] = 0.25\n",
    "                else\n",
    "                    labor = etp_l(h_sim[j,n],j,ν_s_sim[j+1,n],0,children_sim[j+1,n])\n",
    "                    eff = etp_e(h_sim[j,n],j,ν_s_sim[j+1,n],0,children_sim[j+1,n])\n",
    "                    youngest_child_age[j+1,n] = youngest_child_age[j,n]+0.25\n",
    "                end\n",
    "                labor_sim[j,n] = trunc(Int,labor)\n",
    "                unemployment_duration[j+1,n] = (-1*trunc(Int,labor)+1)*(1+unemployment_duration[j,n])\n",
    "                unemployment_spell_end[j,n] = (-1*trunc(Int,labor)+1)*min(unemployment_duration[j,n],1)\n",
    "                working_hours_sim[j,n] = labor*l(age,children_sim[j+1,n],etp_hours(age),P)\n",
    "                income_sim[j,n] = h_sim[j,n]*l(age,children_sim[j+1,n],etp_hours(age),P)\n",
    "                effort_sim[j,n] = eff\n",
    "                if eff >= hc_draw_sim[j,n]*labor\n",
    "                    h_sim[j+1,n] = h_sim[j,n]*(1+P.Δ/100)\n",
    "                else\n",
    "                    h_sim[j+1,n] = h_sim[j,n]\n",
    "                end\n",
    "            else #woman is NOT allowed to do fertility decision-> ν_c = 0\n",
    "                children_sim[j+1,n] = children_sim[j,n]\n",
    "                labor = etp_l(h_sim[j,n],j,ν_s_sim[j+1,n],0,children_sim[j+1,n])\n",
    "                eff = etp_e(h_sim[j,n],j,ν_s_sim[j+1,n],0,children_sim[j+1,n])\n",
    "                youngest_child_age[j+1,n] = youngest_child_age[j,n]+0.25\n",
    "                labor_sim[j,n] = trunc(Int,labor)\n",
    "                unemployment_duration[j+1,n] = (-1*trunc(Int,labor)+1)*(1+unemployment_duration[j,n])\n",
    "                unemployment_spell_end[j,n] = trunc(Int,labor)*min(unemployment_duration[j,n],1)\n",
    "                working_hours_sim[j,n] = labor*l(age, children_sim[j+1,n],etp_hours(age),P)\n",
    "                income_sim[j,n] = h_sim[j,n]*l(age,children_sim[j+1,n],etp_hours(age),P)\n",
    "                effort_sim[j,n] = eff\n",
    "                if eff >= hc_draw_sim[j,n]\n",
    "                    h_sim[j+1,n] = h_sim[j,n]*(1+P.Δ/100)\n",
    "                else\n",
    "                    h_sim[j+1,n] = h_sim[j,n]\n",
    "                end\n",
    "            end\n",
    "        end\n",
    "    end\n",
    "    return (h_sim[1:P.J,:], children_sim[2:P.J+1,:], labor_sim, working_hours_sim, fertility_sim, unemployment_duration[2:P.J+1,:], [unemployment_spell_end[2:P.J,:]; zeros(N)'], max.(youngest_child_age[2:P.J+1,:],0), income_sim)\n",
    "end"
   ]
  },
  {
   "cell_type": "code",
   "execution_count": 14,
   "metadata": {},
   "outputs": [
    {
     "name": "stdout",
     "output_type": "stream",
     "text": [
      "  8.498739 seconds (1.39 M allocations: 202.625 MiB, 2.60% gc time)\n",
      "  1.305340 seconds (8.44 k allocations: 145.606 MiB, 10.34% gc time)\n",
      "  1.222578 seconds (8.15 k allocations: 145.589 MiB, 1.25% gc time)\n"
     ]
    }
   ],
   "source": [
    "group = [\"c\",\"nonc\",\"nonc_black\"]\n",
    "for g in group\n",
    "    MyLine = Meta.parse(\"@time (h_sim_f_$(g), child_sim_f_$(g), labor_sim_f_$(g), working_hours_sim_f_$(g), fertility_sim_f_$(g), unemployment_duration_f_$(g), unemployment_spell_end_f_$(g), youngest_child_age_f_$(g),income_sim_f_$(g)) = female_simulation(labor_policy_f_$(g), effort_policy_f_$(g), child_policy_f_$(g), P_$(g));\")\n",
    "    eval(MyLine)\n",
    "end"
   ]
  },
  {
   "cell_type": "markdown",
   "metadata": {},
   "source": [
    "## Tables and Plots"
   ]
  },
  {
   "cell_type": "code",
   "execution_count": 15,
   "metadata": {},
   "outputs": [
    {
     "data": {
      "text/plain": [
       "Plots.PyPlotBackend()"
      ]
     },
     "execution_count": 15,
     "metadata": {},
     "output_type": "execute_result"
    }
   ],
   "source": [
    "pyplot()"
   ]
  },
  {
   "cell_type": "markdown",
   "metadata": {},
   "source": [
    "### Figure 7"
   ]
  },
  {
   "cell_type": "code",
   "execution_count": 16,
   "metadata": {},
   "outputs": [
    {
     "data": {
      "image/png": "[encoded data removed]"
     },
     "execution_count": 16,
     "metadata": {},
     "output_type": "execute_result"
    }
   ],
   "source": [
    "#non college\n",
    "employment_rate_nonc = []\n",
    "for i = 1:P_nonc.J\n",
    "    push!(employment_rate_nonc,mean(labor_sim_m_nonc[i,:])) #the employment_rate for the ith line\n",
    "end\n",
    "plot(employment_rate_nonc,ylims=[0,1], label=\"Repl_nonC\")"
   ]
  },
  {
   "cell_type": "code",
   "execution_count": 17,
   "metadata": {},
   "outputs": [
    {
     "data": {
      "image/png": "[encoded data removed]"
     },
     "execution_count": 17,
     "metadata": {},
     "output_type": "execute_result"
    }
   ],
   "source": [
    "#college\n",
    "employment_rate_c = []\n",
    "for i = 1:P_c.J\n",
    "    push!(employment_rate_c,mean(labor_sim_m_c[i,:])) #the employment_rate for the ith line\n",
    "end\n",
    "plot(employment_rate_c,ylims=[0,1], label=\"Repl_Col\")"
   ]
  },
  {
   "cell_type": "markdown",
   "metadata": {},
   "source": [
    "### Figure 8"
   ]
  },
  {
   "cell_type": "code",
   "execution_count": 18,
   "metadata": {},
   "outputs": [
    {
     "data": {
      "image/png": "[encoded data removed]"
     },
     "execution_count": 18,
     "metadata": {},
     "output_type": "execute_result"
    }
   ],
   "source": [
    "#non-college\n",
    "quantile_needed = [0.05,0.1,0.25,0.5,0.75,0.9,0.95]\n",
    "wage_percentage = SharedArray{Float64}(P_nonc.J, 7)\n",
    "\n",
    "for (i,percentage) in enumerate(quantile_needed)\n",
    "    for j in 1:P_nonc.J\n",
    "        wage_percentage[j,i] = quantile(income_sim_m_nonc[j,:], percentage)\n",
    "    end\n",
    "end\n",
    "median_first_stage = quantile(income_sim_m_nonc[1,:],0.5)  # median for the first period\n",
    "standarded_wage = wage_percentage./median_first_stage\n",
    "stop=(40-P_nonc.starting_age)*4+1\n",
    "plot(P_nonc.starting_age:0.25:40,standarded_wage[1:stop,:],linewidth = 2)"
   ]
  },
  {
   "cell_type": "code",
   "execution_count": 19,
   "metadata": {},
   "outputs": [
    {
     "data": {
      "image/png": "[encoded data removed]"
     },
     "execution_count": 19,
     "metadata": {},
     "output_type": "execute_result"
    }
   ],
   "source": [
    "#college\n",
    "quantile_needed = [0.05,0.1,0.25,0.5,0.75,0.9,0.95]\n",
    "wage_percentage = SharedArray{Float64}(P_c.J, 7)\n",
    "\n",
    "for (i,percentage) in enumerate(quantile_needed)\n",
    "    for j in 1:P_c.J\n",
    "        wage_percentage[j,i] = quantile(income_sim_m_c[j,:], percentage)\n",
    "    end\n",
    "end\n",
    "median_first_stage = quantile(income_sim_m_c[1,:],0.5)  # median for the first period\n",
    "standarded_wage = wage_percentage./median_first_stage\n",
    "stop=(40-P_c.starting_age)*4+1\n",
    "plot(P_c.starting_age:0.25:40,standarded_wage[1:stop,:],linewidth = 2)"
   ]
  },
  {
   "cell_type": "code",
   "execution_count": 20,
   "metadata": {},
   "outputs": [
    {
     "name": "stdout",
     "output_type": "stream",
     "text": [
      "214.43030538934806\n",
      "35.970030091255836\n"
     ]
    }
   ],
   "source": [
    "println(maximum(h_sim_m_nonc))\n",
    "println(maximum(h_sim_m_c))"
   ]
  },
  {
   "cell_type": "code",
   "execution_count": 21,
   "metadata": {},
   "outputs": [
    {
     "data": {
      "text/plain": [
       "180×1000 Array{Float64,2}:\n",
       "  9.41781   8.82279   6.78219  …  4.4351   24.7651  6.66133   8.01415\n",
       "  9.80865   9.18894   7.06365     4.61915  24.7651  6.93778   8.34674\n",
       " 10.2157    9.57028   7.35679     4.81085  24.7651  7.2257    8.34674\n",
       " 10.2157    9.96745   7.6621      5.0105   25.7928  7.2257    8.69313\n",
       " 10.6397   10.3811    7.98008     5.21843  26.8632  7.52556   8.69313\n",
       " 10.6397   10.3811    8.31125  …  5.435    26.8632  7.83787   9.05389\n",
       " 11.0812   10.8119    8.31125     5.435    26.8632  7.83787   9.05389\n",
       " 11.5411   10.8119    8.31125     5.66055  26.8632  7.83787   9.05389\n",
       " 12.02     11.2606    8.31125     5.66055  26.8632  7.83787   9.05389\n",
       " 12.02     11.7279    8.31125     5.66055  26.8632  7.83787   9.05389\n",
       " 12.02     11.7279    8.65617  …  5.89546  26.8632  8.16315   9.05389\n",
       " 12.02     11.7279    8.65617     6.14013  27.9781  8.50192   9.05389\n",
       " 12.02     11.7279    9.0154      6.14013  27.9781  8.50192   9.05389\n",
       "  ⋮                            ⋱                                     \n",
       " 13.0384   13.2495   10.6077      6.66033  34.2858  9.22222  11.0951 \n",
       " 13.0384   13.2495   10.6077      6.66033  34.2858  9.22222  11.0951 \n",
       " 13.0384   13.2495   10.6077   …  6.66033  34.2858  9.22222  11.0951 \n",
       " 13.0384   13.2495   10.6077      6.66033  34.2858  9.22222  11.0951 \n",
       " 13.0384   13.2495   10.6077      6.66033  34.2858  9.22222  11.0951 \n",
       " 13.0384   13.2495   10.6077      6.66033  34.2858  9.22222  11.0951 \n",
       " 13.0384   13.2495   10.6077      6.66033  34.2858  9.22222  11.0951 \n",
       " 13.0384   13.2495   10.6077   …  6.66033  34.2858  9.22222  11.0951 \n",
       " 13.0384   13.2495   10.6077      6.66033  34.2858  9.22222  11.0951 \n",
       " 13.0384   13.2495   10.6077      6.66033  34.2858  9.22222  11.0951 \n",
       " 13.0384   13.2495   10.6077      6.66033  34.2858  9.22222  11.0951 \n",
       " 13.0384   13.2495   10.6077      6.66033  34.2858  9.22222  11.0951 "
      ]
     },
     "execution_count": 21,
     "metadata": {},
     "output_type": "execute_result"
    }
   ],
   "source": [
    "h_sim_m_c"
   ]
  },
  {
   "cell_type": "code",
   "execution_count": 22,
   "metadata": {},
   "outputs": [
    {
     "data": {
      "text/plain": [
       "187"
      ]
     },
     "execution_count": 22,
     "metadata": {},
     "output_type": "execute_result"
    }
   ],
   "source": [
    "sum(child_sim_f_nonc[end,:])"
   ]
  },
  {
   "cell_type": "markdown",
   "metadata": {},
   "source": [
    "### Table 8"
   ]
  },
  {
   "cell_type": "code",
   "execution_count": null,
   "metadata": {},
   "outputs": [],
   "source": []
  },
  {
   "cell_type": "markdown",
   "metadata": {},
   "source": [
    "### Table 9"
   ]
  },
  {
   "cell_type": "code",
   "execution_count": 23,
   "metadata": {},
   "outputs": [],
   "source": [
    "#non-college\n",
    "period_40 = (40-P_nonc.starting_age)*4+1\n",
    "unemployment_spell_end_m_nonc[period_40,:]=ones(length(unemployment_spell_end_m_nonc[period_40,:]))\n",
    "total_spells=sum(unemployment_spell_end_m_nonc[1:period_40,:])\n",
    "aux = unemployment_duration_m_nonc[1:period_40,:].*unemployment_spell_end_m_nonc[1:period_40,:]\n",
    "criteria = [\"x==1.0\", \"x==2.0\",\"x==3.0\",\"x==4.0\",\"x>4.0\"]\n",
    "nonc9=zeros(length(criteria))\n",
    "for (ind_c, c) in enumerate(criteria)\n",
    "    myLine = Meta.parse(\"spell_1 = count(x->($(c)),aux) #counts numbers of spells of 1 quarter length\")\n",
    "    eval(myLine)\n",
    "    nonc9[ind_c] =round(100*spell_1/total_spells; digits=1)\n",
    "end"
   ]
  },
  {
   "cell_type": "code",
   "execution_count": 24,
   "metadata": {},
   "outputs": [
    {
     "data": {
      "text/plain": [
       "6×3 Array{Any,2}:\n",
       " \"\"       \"Non-College\"    \"College\"\n",
       " \"1Q\"   25.5             25.3       \n",
       " \"2Q\"   17.3             17.7       \n",
       " \"3Q\"   12.3             13.2       \n",
       " \"4Q\"    9.2              9.2       \n",
       " \">4Q\"  30.6             27.2       "
      ]
     },
     "execution_count": 24,
     "metadata": {},
     "output_type": "execute_result"
    }
   ],
   "source": [
    "#college\n",
    "period_40 = (40-P_c.starting_age)*4+1\n",
    "unemployment_spell_end_m_c[period_40,:]=ones(length(unemployment_spell_end_m_c[period_40,:]))\n",
    "total_spells=sum(unemployment_spell_end_m_c[1:period_40,:])\n",
    "aux = unemployment_duration_m_c[1:period_40,:].*unemployment_spell_end_m_c[1:period_40,:]\n",
    "criteria = [\"x==1.0\", \"x==2.0\",\"x==3.0\",\"x==4.0\",\"x>4.0\"]\n",
    "c9=zeros(length(criteria))\n",
    "for (ind_c, c) in enumerate(criteria)\n",
    "    myLine = Meta.parse(\"spell_1 = count(x->($(c)),aux) #counts numbers of spells of 1 quarter length\")\n",
    "    eval(myLine)\n",
    "    c9[ind_c] =round(100*spell_1/total_spells; digits=1)\n",
    "end\n",
    "tab9 = [[\"\" \"Non-College\" \"College\"]; [\"1Q\"; \"2Q\"; \"3Q\"; \"4Q\"; \">4Q\"] nonc9 c9 ]"
   ]
  },
  {
   "cell_type": "markdown",
   "metadata": {},
   "source": [
    "### Table 10/21"
   ]
  },
  {
   "cell_type": "code",
   "execution_count": 25,
   "metadata": {},
   "outputs": [
    {
     "ename": "UndefRefError",
     "evalue": "UndefRefError: access to undefined reference",
     "output_type": "error",
     "traceback": [
      "UndefRefError: access to undefined reference",
      "",
      "Stacktrace:",
      " [1] getindex at ./array.jl:729 [inlined]",
      " [2] iterate at ./array.jl:705 [inlined]",
      " [3] macro expansion at ./multidimensional.jl:702 [inlined]",
      " [4] macro expansion at ./cartesian.jl:64 [inlined]",
      " [5] macro expansion at ./multidimensional.jl:696 [inlined]",
      " [6] _unsafe_setindex!(::IndexLinear, ::Array{Any,2}, ::Array{Any,2}, ::UnitRange{Int64}, ::Base.Slice{Base.OneTo{Int64}}) at ./multidimensional.jl:689",
      " [7] _setindex! at ./multidimensional.jl:684 [inlined]",
      " [8] setindex! at ./abstractarray.jl:1020 [inlined]",
      " [9] _typed_vcat(::Type{Any}, ::Tuple{Array{String,2},Array{Any,2}}) at ./abstractarray.jl:1313",
      " [10] typed_vcat at ./abstractarray.jl:1319 [inlined]",
      " [11] vcat(::Array{String,2}, ::Array{Any,2}) at /Users/osx/buildbot/slave/package_osx64/build/usr/share/julia/stdlib/v1.1/SparseArrays/src/sparsevector.jl:1061",
      " [12] top-level scope at In[25]:20"
     ]
    }
   ],
   "source": [
    "#average fertility second group 20-24\n",
    "group = [\"c\", \"nonc\",\"nonc_black\"]\n",
    "tab_11_sim = Array{Any}(undef,5,length(group))\n",
    "tab_11_sim[1,1]=0.0\n",
    "Istart = (17-P_nonc.starting_age)*4+1; Iend = (20-P_nonc.starting_age)*4;\n",
    "aux = sum(fertility_sim_f_nonc[Istart:Iend,:]; dims=1)\n",
    "tab_11_sim[1,2] = mean(aux)\n",
    "#aux = sum(fertility_sim_f_nonc_black[Istart:Iend,:]; dims=1)\n",
    "#tab_11_sim[1,3] = mean(aux)\n",
    "ages = [17, 20, 25, 30, 35, 40]\n",
    "for (ind_g, g) in enumerate(group)\n",
    "    #ages = [17, 20, 25, 30, 35, 40]\n",
    "    for i in 2:5\n",
    "        MyLine = Meta.parse(\"Istart = (ages[$(i)]-P_$(g).starting_age)*4+1; Iend = (ages[$(i)+1]-P_$(g).starting_age)*4; aux = sum(fertility_sim_f_$(g)[Istart:Iend,:]; dims=1)\")\n",
    "        eval(MyLine)\n",
    "        tab_11_sim[i,ind_g]=mean(aux)\n",
    "    end\n",
    "end\n",
    "aux = [\"College\" \"Non-College\" \"Black\"]\n",
    "tab_11_sim_described = [[\"College\" \"Non-College\" \"Black\"]; tab_11_sim]\n"
   ]
  },
  {
   "cell_type": "code",
   "execution_count": null,
   "metadata": {},
   "outputs": [],
   "source": []
  },
  {
   "cell_type": "markdown",
   "metadata": {},
   "source": [
    "### Table 11/20"
   ]
  },
  {
   "cell_type": "code",
   "execution_count": 26,
   "metadata": {},
   "outputs": [
    {
     "data": {
      "text/plain": [
       "7×4 Array{Any,2}:\n",
       " \" \"        \"College\"    \"Non-College\"    \"Black\"\n",
       " \"1Q\"      6.1          5.3              4.9     \n",
       " \"2Q\"     30.9         26.5             25.7     \n",
       " \"3Q\"     42.0         31.0             30.7     \n",
       " \"4Q\"     51.9         37.0             29.0     \n",
       " \"1y-5y\"  82.9         76.4             76.9     \n",
       " \"5y-6y\"  82.7         76.2             76.4     "
      ]
     },
     "execution_count": 26,
     "metadata": {},
     "output_type": "execute_result"
    }
   ],
   "source": [
    "group = [\"f_c\",\"f_nonc\",\"f_nonc_black\"]\n",
    "tab_11_sim = Array{Any}(undef,6,length(group))\n",
    "for (ind_g, g) in enumerate(group)\n",
    "    criteria = [\"==0.25)\",\"==0.5)\", \"==0.75)\",\"==1.0)\",\"<1.0).*(youngest_child_age_$(g).<=5.0)\",\"<5.0).*(youngest_child_age_$(g).<=6.0)\"]\n",
    "    for (ind_i, i) in enumerate(criteria)\n",
    "        MyLine1 = Meta.parse(\"binary = 1 .*(youngest_child_age_$(g) .$(i)\") #assigns 1 to mothers with youngest child of age of desired criteria\n",
    "        MyLine2 = Meta.parse(\"labor_bin = labor_sim_$(g).*binary\") #assigns 1 to mothers that work and fulfill the prior criterium of youngest child age\n",
    "        #println(MyLine1)\n",
    "        eval(MyLine1)\n",
    "        #println(MyLine2)\n",
    "        eval(MyLine2)\n",
    "        #println(sum(binary))\n",
    "        tab_11_sim[ind_i, ind_g] = round(100*sum(labor_bin)/sum(binary); digits=1) #if NaN, mostly because binary=0\n",
    "    end\n",
    "end\n",
    "tab_11_sim_described = [\"College\" \"Non-College\" \"Black\" ;tab_11_sim]\n",
    "lengths = [\" \"; \"1Q\"; \"2Q\"; \"3Q\"; \"4Q\"; \"1y-5y\"; \"5y-6y\"]\n",
    "tab_11_sim_described = [lengths tab_11_sim_described]"
   ]
  },
  {
   "cell_type": "code",
   "execution_count": 27,
   "metadata": {},
   "outputs": [
    {
     "data": {
      "text/plain": [
       "82"
      ]
     },
     "execution_count": 27,
     "metadata": {},
     "output_type": "execute_result"
    }
   ],
   "source": [
    "binary = 1 .* (youngest_child_age_f_c .== 0.25)\n",
    "labor_bin = labor_sim_f_c .* binary\n",
    "sum(binary)"
   ]
  },
  {
   "cell_type": "markdown",
   "metadata": {},
   "source": [
    "### Table 12"
   ]
  },
  {
   "cell_type": "code",
   "execution_count": 28,
   "metadata": {},
   "outputs": [],
   "source": [
    "#non-college\n",
    "period_40 = (40-P_nonc.starting_age)*4+1\n",
    "unemployment_spell_end_f_nonc[period_40,:]=ones(length(unemployment_spell_end_f_nonc[period_40,:]))\n",
    "total_spells=sum(unemployment_spell_end_f_nonc[1:period_40,:].*(child_sim_f_nonc[1:period_40,:].>0))\n",
    "aux = unemployment_duration_f_nonc[1:period_40,:].*unemployment_spell_end_f_nonc[1:period_40,:].*(child_sim_f_nonc[1:period_40,:].>0)\n",
    "criteria = [\"x==1.0\", \"x==2.0\",\"x==3.0\",\"x==4.0\",\"x>4.0\"]\n",
    "nonc13=zeros(length(criteria))\n",
    "for (ind_c, c) in enumerate(criteria)\n",
    "    myLine = Meta.parse(\"spell_1 = count(x->($(c)),aux) #counts numbers of spells of 1 quarter length\")\n",
    "    eval(myLine)\n",
    "    nonc13[ind_c] =round(100*spell_1/total_spells; digits=1)\n",
    "end"
   ]
  },
  {
   "cell_type": "code",
   "execution_count": 29,
   "metadata": {},
   "outputs": [
    {
     "data": {
      "text/plain": [
       "6×3 Array{Any,2}:\n",
       " \"\"       \"Non-College\"    \"College\"\n",
       " \"1Q\"   34.5             32.1       \n",
       " \"2Q\"   16.0             15.0       \n",
       " \"3Q\"    9.2             10.5       \n",
       " \"4Q\"    6.3              8.8       \n",
       " \">4Q\"  21.8             16.9       "
      ]
     },
     "execution_count": 29,
     "metadata": {},
     "output_type": "execute_result"
    }
   ],
   "source": [
    "#college\n",
    "period_40 = (40-P_c.starting_age)*4+1\n",
    "unemployment_spell_end_f_c[period_40,:]=ones(length(unemployment_spell_end_f_c[period_40,:]))\n",
    "total_spells=sum(unemployment_spell_end_f_c[1:period_40,:].*(child_sim_f_c[1:period_40,:].>0))\n",
    "aux = unemployment_duration_f_c[1:period_40,:].*unemployment_spell_end_f_c[1:period_40,:].*(child_sim_f_c[1:period_40,:].>0)\n",
    "criteria = [\"x==1.0\", \"x==2.0\",\"x==3.0\",\"x==4.0\",\"x>4.0\"]\n",
    "c13=zeros(length(criteria))\n",
    "for (ind_c, c) in enumerate(criteria)\n",
    "    myLine = Meta.parse(\"spell_1 = count(x->($(c)),aux) #counts numbers of spells of 1 quarter length\")\n",
    "    eval(myLine)\n",
    "    c13[ind_c] =round(100*spell_1/total_spells; digits=1)\n",
    "end\n",
    "tab12 = [[\"\" \"Non-College\" \"College\"]; [\"1Q\"; \"2Q\"; \"3Q\"; \"4Q\"; \">4Q\"] nonc13 c13 ]"
   ]
  },
  {
   "cell_type": "markdown",
   "metadata": {},
   "source": [
    "### Table 13"
   ]
  },
  {
   "cell_type": "code",
   "execution_count": 30,
   "metadata": {},
   "outputs": [],
   "source": [
    "#non-college\n",
    "period_40 = (40-P_nonc.starting_age)*4+1\n",
    "unemployment_spell_end_f_nonc[period_40,:]=ones(length(unemployment_spell_end_f_nonc[period_40,:]))\n",
    "total_spells=sum(unemployment_spell_end_f_nonc[1:period_40,:])\n",
    "aux = unemployment_duration_f_nonc[1:period_40,:].*unemployment_spell_end_f_nonc[1:period_40,:]\n",
    "criteria = [\"x==1.0\", \"x==2.0\",\"x==3.0\",\"x==4.0\",\"x>4.0\"]\n",
    "nonc13=zeros(length(criteria))\n",
    "for (ind_c, c) in enumerate(criteria)\n",
    "    myLine = Meta.parse(\"spell_1 = count(x->($(c)),aux) #counts numbers of spells of 1 quarter length\")\n",
    "    eval(myLine)\n",
    "    nonc13[ind_c] =round(100*spell_1/total_spells; digits=1)\n",
    "end"
   ]
  },
  {
   "cell_type": "code",
   "execution_count": 31,
   "metadata": {},
   "outputs": [
    {
     "data": {
      "text/plain": [
       "6×3 Array{Any,2}:\n",
       " \"\"       \"Non-College\"    \"College\"\n",
       " \"1Q\"   36.1             33.0       \n",
       " \"2Q\"   16.7             15.1       \n",
       " \"3Q\"    9.9             10.1       \n",
       " \"4Q\"    6.5              8.2       \n",
       " \">4Q\"  20.7             18.8       "
      ]
     },
     "execution_count": 31,
     "metadata": {},
     "output_type": "execute_result"
    }
   ],
   "source": [
    "#college\n",
    "period_40 = (40-P_c.starting_age)*4+1\n",
    "unemployment_spell_end_f_c[period_40,:]=ones(length(unemployment_spell_end_f_c[period_40,:]))\n",
    "total_spells=sum(unemployment_spell_end_f_c[1:period_40,:])\n",
    "aux = unemployment_duration_f_c[1:period_40,:].*unemployment_spell_end_f_c[1:period_40,:]\n",
    "criteria = [\"x==1.0\", \"x==2.0\",\"x==3.0\",\"x==4.0\",\"x>4.0\"]\n",
    "c13=zeros(length(criteria))\n",
    "for (ind_c, c) in enumerate(criteria)\n",
    "    myLine = Meta.parse(\"spell_1 = count(x->($(c)),aux) #counts numbers of spells of 1 quarter length\")\n",
    "    eval(myLine)\n",
    "    c13[ind_c] =round(100*spell_1/total_spells; digits=1)\n",
    "end\n",
    "tab13 = [[\"\" \"Non-College\" \"College\"]; [\"1Q\"; \"2Q\"; \"3Q\"; \"4Q\"; \">4Q\"] nonc13 c13 ]"
   ]
  },
  {
   "cell_type": "markdown",
   "metadata": {},
   "source": [
    "### Table 12"
   ]
  },
  {
   "cell_type": "code",
   "execution_count": 32,
   "metadata": {},
   "outputs": [
    {
     "data": {
      "text/plain": [
       "0.34513274336283184"
      ]
     },
     "execution_count": 32,
     "metadata": {},
     "output_type": "execute_result"
    }
   ],
   "source": [
    "#like table 13 but only takes mothers into account\n",
    "period_40 = (40-P_nonc.starting_age)*4+1\n",
    "total_spells=sum(unemployment_spell_end_f_nonc[1:period_40,:].*(child_sim_f_nonc[1:period_40,:].>0))\n",
    "\n",
    "aux = unemployment_duration_f_nonc[1:period_40,:].*unemployment_spell_end_f_nonc[1:period_40,:].*(child_sim_f_nonc[1:period_40,:].>0)\n",
    "spell_1 = count(x->(x==1.0),aux) #counts numbers of spells of 1 quarter length\n",
    "spell_1/total_spells #relative amount of spells of 1 quarter length"
   ]
  },
  {
   "cell_type": "markdown",
   "metadata": {},
   "source": [
    "### Table 13"
   ]
  },
  {
   "cell_type": "code",
   "execution_count": 33,
   "metadata": {},
   "outputs": [
    {
     "data": {
      "text/plain": [
       "1243.0"
      ]
     },
     "execution_count": 33,
     "metadata": {},
     "output_type": "execute_result"
    }
   ],
   "source": [
    "total_spells=sum(unemployment_spell_end_f_nonc[1:period_40,:].*(child_sim_f_nonc[1:period_40,:].>0))"
   ]
  },
  {
   "cell_type": "code",
   "execution_count": null,
   "metadata": {},
   "outputs": [],
   "source": []
  },
  {
   "cell_type": "markdown",
   "metadata": {},
   "source": [
    "### Table 14"
   ]
  },
  {
   "cell_type": "code",
   "execution_count": 34,
   "metadata": {},
   "outputs": [
    {
     "data": {
      "text/plain": [
       "4×3 Array{Any,2}:\n",
       " \"\"                   \"non-College\"      \"College\"\n",
       " \"Males\"          3148.57            3440.27      \n",
       " \"Females\"        2768.36            3057.73      \n",
       " \"Males/Females\"     1.13734            1.12511   "
      ]
     },
     "execution_count": 34,
     "metadata": {},
     "output_type": "execute_result"
    }
   ],
   "source": [
    "period_40 = (40-P_nonc.starting_age)*4+1\n",
    "year_convert= 1\n",
    "#non-College\n",
    "e1_nonc = mean(sum(working_hours_sim_m_nonc[1:period_40,:]; dims=1))/year_convert #mean cumulative working hours up to age 40\n",
    "e2_nonc = mean(sum(working_hours_sim_f_nonc[1:period_40,:]; dims=1))/year_convert\n",
    "e3_nonc = e1_nonc/e2_nonc\n",
    "#College\n",
    "e1_c = mean(sum(working_hours_sim_m_c[1:period_40,:]; dims=1))/year_convert\n",
    "e2_c = mean(sum(working_hours_sim_f_c[1:period_40,:]; dims=1))/year_convert\n",
    "e3_c = e1_c/e2_c\n",
    "tab = [e1_nonc e1_c;\n",
    "        e2_nonc e2_c;\n",
    "        e3_nonc e3_c]\n",
    "disp = [\"non-College\" \"College\"; tab]\n",
    "dips = [[\"\";\"Males\";\"Females\";\"Males/Females\"] disp ]"
   ]
  },
  {
   "cell_type": "code",
   "execution_count": null,
   "metadata": {},
   "outputs": [],
   "source": []
  },
  {
   "cell_type": "markdown",
   "metadata": {},
   "source": [
    "### Table 15"
   ]
  },
  {
   "cell_type": "code",
   "execution_count": 35,
   "metadata": {},
   "outputs": [
    {
     "data": {
      "text/plain": [
       "4×3 Array{Any,2}:\n",
       " \" \"            \"Male\"   \"Female\"\n",
       " \"Average\"     3.31657  2.85046  \n",
       " \"Top 50%\"     3.92702  3.33564  \n",
       " \"Bottom 50%\"  2.42255  2.14634  "
      ]
     },
     "execution_count": 35,
     "metadata": {},
     "output_type": "execute_result"
    }
   ],
   "source": [
    "#non college females\n",
    "period_40 = (40-P_nonc.starting_age)*4+1\n",
    "inc_40= income_sim_f_nonc[period_40:period_40+1,:]\n",
    "inc_s = income_sim_f_nonc[1:4,:]\n",
    "med_40= median(inc_40); med_s = median(inc_s);\n",
    "f1 = mean(inc_40)/mean(inc_s)\n",
    "f2 = mean(inc_40.*(inc_40.>med_40)) / mean(inc_s.*(inc_s.>med_s))\n",
    "f3 = mean(inc_40.*(inc_40.<=med_40))/ mean(inc_s.*(inc_s.<=med_s))\n",
    "#non college males\n",
    "inc_40= income_sim_m_nonc[period_40:period_40+1,:]\n",
    "inc_s = income_sim_m_nonc[1:4,:]\n",
    "med_40= median(inc_40); med_s = median(inc_s);\n",
    "m1 = mean(inc_40)/mean(inc_s)\n",
    "m2 = mean(inc_40.*(inc_40.>med_40)) / mean(inc_s.*(inc_s.>med_s))\n",
    "m3 = mean(inc_40.*(inc_40.<=med_40)) / mean(inc_s.*(inc_s.<=med_s))\n",
    "[\" \" \"Male\" \"Female\";\n",
    "    \"Average\" m1 f1; \n",
    "    \"Top 50%\" m2 f2; \n",
    "    \"Bottom 50%\" m3 f3]"
   ]
  },
  {
   "cell_type": "code",
   "execution_count": 36,
   "metadata": {},
   "outputs": [
    {
     "data": {
      "text/plain": [
       "4×3 Array{Any,2}:\n",
       " \" \"            \"Male\"   \"Female\"\n",
       " \"Average\"     1.65765  1.61569  \n",
       " \"Top 50%\"     1.67491  1.63078  \n",
       " \"Bottom 50%\"  1.62552  1.58741  "
      ]
     },
     "execution_count": 36,
     "metadata": {},
     "output_type": "execute_result"
    }
   ],
   "source": [
    "#college females\n",
    "period_40 = (40-P_c.starting_age)*4+1\n",
    "inc_40= income_sim_f_c[period_40:period_40+1,:]\n",
    "inc_s = income_sim_f_c[1:4,:]\n",
    "med_40= median(inc_40); med_s = median(inc_s);\n",
    "f1 = mean(inc_40)/mean(inc_s)\n",
    "f2 = mean(inc_40.*(inc_40.>med_40)) / mean(inc_s.*(inc_s.>med_s))\n",
    "f3 = mean(inc_40.*(inc_40.<=med_40))/ mean(inc_s.*(inc_s.<=med_s))\n",
    "#college males\n",
    "inc_40= income_sim_m_c[period_40:period_40+1,:]\n",
    "inc_s = income_sim_m_c[1:4,:]\n",
    "med_40= median(inc_40); med_s = median(inc_s);\n",
    "m1 = mean(inc_40)/mean(inc_s)\n",
    "m2 = mean(inc_40.*(inc_40.>med_40)) / mean(inc_s.*(inc_s.>med_s))\n",
    "m3 = mean(inc_40.*(inc_40.<=med_40)) / mean(inc_s.*(inc_s.<=med_s))\n",
    "[\" \" \"Male\" \"Female\";\n",
    "    \"Average\" m1 f1; \n",
    "    \"Top 50%\" m2 f2; \n",
    "    \"Bottom 50%\" m3 f3]"
   ]
  },
  {
   "cell_type": "markdown",
   "metadata": {},
   "source": [
    "# Random Stuff\n",
    "### ..."
   ]
  },
  {
   "cell_type": "code",
   "execution_count": 37,
   "metadata": {},
   "outputs": [],
   "source": [
    "quantile_needed = [0.05,0.1,0.25,0.5,0.75,0.9,0.95]\n",
    "wage_percentage = SharedArray{Float64}(P_nonc.J, 7)\n",
    "\n",
    "for (i,percentage) in enumerate(quantile_needed)\n",
    "    for j in 1:P_nonc.J\n",
    "        wage_percentage[j,i] = quantile(income_sim_m_nonc[j,:], percentage)\n",
    "    end\n",
    "end"
   ]
  },
  {
   "cell_type": "code",
   "execution_count": 38,
   "metadata": {},
   "outputs": [
    {
     "data": {
      "text/plain": [
       "192×7 Array{Float64,2}:\n",
       " 0.681382  0.738007  0.852044  1.0      1.1698   1.35641  1.46317\n",
       " 0.694277  0.753992  0.872531  1.01826  1.19828  1.38643  1.51137\n",
       " 0.707216  0.770174  0.886194  1.04712  1.22616  1.42613  1.53495\n",
       " 0.717833  0.788044  0.909116  1.06675  1.25259  1.46016  1.57793\n",
       " 0.734763  0.805753  0.92484   1.08856  1.28394  1.50073  1.60436\n",
       " 0.753421  0.823234  0.946508  1.11385  1.31416  1.53429  1.64578\n",
       " 0.765205  0.834897  0.966412  1.1397   1.33501  1.57206  1.69077\n",
       " 0.780191  0.850793  0.979932  1.16766  1.36204  1.60359  1.71713\n",
       " 0.792793  0.866135  1.00281   1.18913  1.39554  1.64907  1.75979\n",
       " 0.806953  0.882053  1.01541   1.20905  1.42861  1.68895  1.78187\n",
       " 0.824621  0.89438   1.03105   1.23222  1.45642  1.72108  1.83306\n",
       " 0.836178  0.90434   1.05018   1.25642  1.48061  1.77167  1.85748\n",
       " 0.850227  0.922208  1.06687   1.27712  1.51449  1.81312  1.9075 \n",
       " ⋮                                               ⋮               \n",
       " 1.15718   1.36795   1.82705   2.67139  4.25372  6.6789   8.36262\n",
       " 1.15418   1.3644    1.82232   2.66447  4.2427   6.66159  8.34095\n",
       " 1.15118   1.36086   1.81758   2.65754  4.23167  6.64428  8.31928\n",
       " 1.14819   1.35731   1.81285   2.65062  4.22065  6.62697  8.2976 \n",
       " 1.14519   1.35377   1.80811   2.6437   4.20963  6.60966  8.27593\n",
       " 1.13858   1.34595   1.79768   2.62844  4.18533  6.57151  8.22816\n",
       " 1.13197   1.33814   1.78724   2.61318  4.16103  6.53336  8.1804 \n",
       " 1.12536   1.33033   1.7768    2.59792  4.13673  6.49521  8.13263\n",
       " 1.11875   1.32251   1.76637   2.58266  4.11243  6.45706  8.08486\n",
       " 1.10325   1.30419   1.7419    2.54689  4.05547  6.36762  7.97287\n",
       " 1.08775   1.28588   1.71743   2.51111  3.99851  6.27818  7.86089\n",
       " 1.07226   1.26756   1.69297   2.47534  3.94154  6.18874  7.7489 "
      ]
     },
     "execution_count": 38,
     "metadata": {},
     "output_type": "execute_result"
    }
   ],
   "source": [
    "median_first_stage = quantile(income_sim_m_nonc[1,:],0.5)  # median for the first period\n",
    "standarded_wage = wage_percentage./median_first_stage"
   ]
  },
  {
   "cell_type": "code",
   "execution_count": 39,
   "metadata": {},
   "outputs": [
    {
     "name": "stdout",
     "output_type": "stream",
     "text": [
      "214.43030538934806"
     ]
    }
   ],
   "source": [
    "pyplot()\n",
    "stop=(40-P_nonc.starting_age)*4+1\n",
    "plot(P_nonc.starting_age:0.25:40,standarded_wage[1:stop,:],linewidth = 2)\n",
    "#plot!(standarded_wage[1:stop,2],linewidth = 2)\n",
    "#plot!(standarded_wage[1:stop,3],linewidth = 2)\n",
    "#plot!(standarded_wage[1:stop,4],linewidth = 2)\n",
    "#plot!(standarded_wage[1:stop,5],linewidth = 2)\n",
    "#plot!(standarded_wage[1:stop,6],linewidth = 2)\n",
    "#plot!(standarded_wage[1:stop,7],linewidth = 2)\n",
    "print(maximum(h_sim_m_nonc))"
   ]
  },
  {
   "cell_type": "code",
   "execution_count": 40,
   "metadata": {},
   "outputs": [
    {
     "data": {
      "image/png": "[encoded data removed]"
     },
     "execution_count": 40,
     "metadata": {},
     "output_type": "execute_result"
    }
   ],
   "source": [
    "employment_rate = []\n",
    "for i = 1:P_nonc.J\n",
    "    push!(employment_rate,mean(labor_sim_m_nonc[i,:])) #the employment_rate for the ith line\n",
    "end\n",
    "\n",
    "plot(employment_rate)"
   ]
  },
  {
   "cell_type": "code",
   "execution_count": 41,
   "metadata": {},
   "outputs": [
    {
     "ename": "MethodError",
     "evalue": "MethodError: no method matching l(::Int64, ::Int64, ::Parameters)\nClosest candidates are:\n  l(::Any, ::Any, ::Any, !Matched::Parameters) at In[4]:14",
     "output_type": "error",
     "traceback": [
      "MethodError: no method matching l(::Int64, ::Int64, ::Parameters)\nClosest candidates are:\n  l(::Any, ::Any, ::Any, !Matched::Parameters) at In[4]:14",
      "",
      "Stacktrace:",
      " [1] top-level scope at ./In[41]:3"
     ]
    }
   ],
   "source": [
    "arr = []\n",
    "for i in 20:45\n",
    "    push!(arr,l(i,0,P_c))\n",
    "end\n",
    "plot(20:45,arr, label=\"working hours per week\", xlabel=\"age\")"
   ]
  },
  {
   "cell_type": "code",
   "execution_count": 42,
   "metadata": {},
   "outputs": [
    {
     "data": {
      "text/plain": [
       "47-element Array{Int64,1}:\n",
       " 19\n",
       " 20\n",
       " 21\n",
       " 22\n",
       " 23\n",
       " 24\n",
       " 25\n",
       " 26\n",
       " 27\n",
       " 28\n",
       " 29\n",
       " 30\n",
       " 31\n",
       "  ⋮\n",
       " 54\n",
       " 55\n",
       " 56\n",
       " 57\n",
       " 58\n",
       " 59\n",
       " 60\n",
       " 61\n",
       " 62\n",
       " 63\n",
       " 64\n",
       " 65"
      ]
     },
     "execution_count": 42,
     "metadata": {},
     "output_type": "execute_result"
    }
   ],
   "source": [
    "wrk_hours_NLSY_all =[39.09459,39.56225,41.15072,42.5114,43.73147,44.39577,44.60279,45.09376,45.62251,45.96919,46.25466,46.47443,46.51523,46.52374,47.16737,47.57628,47.51178,47.61147,47.39395,46.93997,46.79821,46.8379,46.88184,46.67376]\n",
    "wrk_hours_NLSY_nonc = [41.61602, 42.52877, 43.17405, 43.6543, 44.5026, 44.78812, 44.7719, 45.06112, 45.66928, 45.73491, 45.88558, 46.09651, 46.17676, 46.19064, 46.91763, 47.36696, 47.22327, 47.35094, 47.10267, 46.68125, 46.69777, 46.75841, 46.66045 ,46.34579]\n",
    "wrk_hours_NLSY_nonc_black = [38.39248, 39.53852, 41.65616, 42.72793, 42.91534, 43.90674, 42.24459, 43.32632, 42.40185, 42.97169, 43.58034, 43.52317, 43.59142, 43.70587, 44.64614, 45.41379, 46.11264, 46.20262, 45.548, 44.64057, 45.62069, 45.46609, 44.69819, 43.45657]\n",
    "wrk_hours_NLSY_c = [31.69323, 30.86017, 35.1141, 39.10999, 41.4514, 43.22748, 44.10023, 45.18816, 45.48891, 46.64455, 47.29931, 47.54831, 47.4838, 47.48338, 47.88516, 48.17429, 48.33657, 48.34683, 48.21116, 47.64887, 47.07518, 47.0506, 47.47623, 47.56988]\n",
    "ages_NLSY = collect(20:43)\n",
    "wrk_hours_CPS_all=[20.95905,28.89055,34.1324,36.50721,38.2761,40.23252,41.16984,42.06722,42.78102,43.01234,43.49506,43.71818,43.94692,44.0628,44.38766,44.49844,44.59843,44.86217,44.68788,44.69109,44.8023,44.85968,44.86664,44.96542,44.92937,44.86303,44.82444,44.95251,44.65644,44.81043,44.71614,44.71489,44.52945,44.52751,44.49105,44.53985,44.12905,43.89655,43.27912,43.3735,43.03038,42.87579,42.97711,42.38791,41.81822,40.03535,39.62034,38.7056,36.56108]\n",
    "wrk_hours_CPS_c = [44.88889, 38.41176, 35.14286, 37.4472,39.45081,41.07805,42.3377,43.23596,44.32782,44.65733,44.96303,45.36479,45.55287,45.9503,46.08944,46.59121,46.55041,46.61579,46.74215,46.8897,46.6334,47.20395,47.04182,46.73362,46.87761,46.68553,46.40274,46.7908,46.40085, 46.51598,46.44224,46.45074,46.23458,46.4615,45.75699,45.57569,44.63604,45.10394,44.52839,44.11532,44.06484,43.72736,42.92652,41.62637,41.58209,39.90182,37.64368]\n",
    "wrk_hours_CPS_nonc =[20.95905, 28.89055, 34.11965, 36.50318, 38.31971, 40.54175, 41.49739, 42.29336, 42.89416, 42.94616, 43.23666, 43.39517, 43.57509, 43.54637, 43.90628, 43.89597, 43.97261, 44.12801, 43.89708, 43.8616, 43.9502, 43.9412, 44.02615, 43.94618, 43.93134, 43.98629, 43.84266, 44.1197, 43.80469, 43.8161, 43.86501, 43.78159, 43.55139, 43.52779, 43.54522, 43.51697, 43.21266, 42.93177, 42.50974, 42.39488, 42.18402, 42.18699, 42.42397, 41.7017, 41.246, 39.19218, 38.49695, 38.1042, 35.95146]\n",
    "wrk_hours_CPS_nonc_black = [22.83747, 29.41613, 34.29444, 36.3078, 37.92713, 39.64614, 38.95276, 39.50281, 40.2061, 40.23299,40.52941,40.17025,40.58729,40.77788,40.43398,40.70308,41.10214,40.34703,40.68182,40.73382,39.96592,41.11389,40.98627,41.03655,40.78833,40.89331,41.17895,41.41185,41.23407,40.51578,40.80245,40.92878,40.68591,40.89167,41.44828,40.97869,40.88929,40.7767,40.8551,39.93467,40.11656,39.61204,38.77016,38.69668,40.54819,38.71429,37.40426,34.41509, 38.91667]\n",
    "ages_CPS_nonc = collect(17:65)\n",
    "ages_CPS_c = collect(19:65)"
   ]
  },
  {
   "cell_type": "code",
   "execution_count": 43,
   "metadata": {},
   "outputs": [
    {
     "data": {
      "text/plain": [
       "46-element Array{Int64,1}:\n",
       " 20\n",
       " 21\n",
       " 22\n",
       " 23\n",
       " 24\n",
       " 25\n",
       " 26\n",
       " 27\n",
       " 28\n",
       " 29\n",
       " 30\n",
       " 31\n",
       " 32\n",
       "  ⋮\n",
       " 54\n",
       " 55\n",
       " 56\n",
       " 57\n",
       " 58\n",
       " 59\n",
       " 60\n",
       " 61\n",
       " 62\n",
       " 63\n",
       " 64\n",
       " 65"
      ]
     },
     "execution_count": 43,
     "metadata": {},
     "output_type": "execute_result"
    }
   ],
   "source": [
    "combined_all = [collect(wrk_hours_NLSY_all[1:21]);collect(wrk_hours_CPS_all[25:end])]\n",
    "combined_nonc = [collect(wrk_hours_NLSY_nonc[1:21]);collect(wrk_hours_CPS_nonc[25:end])]\n",
    "combined_nonc_black = [collect(wrk_hours_NLSY_nonc_black[1:21]);collect(wrk_hours_CPS_nonc_black[25:end])]\n",
    "combined_c = [collect(wrk_hours_NLSY_c[1:21]);collect(wrk_hours_CPS_c[23:end])]\n",
    "combined_ages = collect(20:65)"
   ]
  },
  {
   "cell_type": "code",
   "execution_count": 44,
   "metadata": {},
   "outputs": [
    {
     "data": {
      "image/png": "[encoded data removed]"
     },
     "execution_count": 44,
     "metadata": {},
     "output_type": "execute_result"
    }
   ],
   "source": [
    "plot(combined_ages, combined_c, label=\"College\")\n",
    "plot!(combined_ages, combined_nonc,label=\"Non-College\" )\n",
    "plot!(combined_ages,combined_all, label=\"all\" )"
   ]
  },
  {
   "cell_type": "code",
   "execution_count": 45,
   "metadata": {},
   "outputs": [
    {
     "data": {
      "text/plain": [
       "275.5581879182778"
      ]
     },
     "execution_count": 45,
     "metadata": {},
     "output_type": "execute_result"
    }
   ],
   "source": [
    "median_first_stage"
   ]
  },
  {
   "cell_type": "code",
   "execution_count": null,
   "metadata": {},
   "outputs": [],
   "source": []
  },
  {
   "cell_type": "code",
   "execution_count": null,
   "metadata": {},
   "outputs": [],
   "source": []
  },
  {
   "cell_type": "code",
   "execution_count": null,
   "metadata": {},
   "outputs": [],
   "source": []
  }
 ],
 "metadata": {
  "kernelspec": {
   "display_name": "Julia 1.1.0",
   "language": "julia",
   "name": "julia-1.1"
  },
  "language_info": {
   "file_extension": ".jl",
   "mimetype": "application/julia",
   "name": "julia",
   "version": "1.1.0"
  }
 },
 "nbformat": 4,
 "nbformat_minor": 2
}
